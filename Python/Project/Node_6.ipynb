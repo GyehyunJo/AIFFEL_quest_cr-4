{
  "nbformat": 4,
  "nbformat_minor": 0,
  "metadata": {
    "colab": {
      "provenance": [],
      "authorship_tag": "ABX9TyO+Tb7pIy7pAAywElmrJ1Yt",
      "include_colab_link": true
    },
    "kernelspec": {
      "name": "python3",
      "display_name": "Python 3"
    },
    "language_info": {
      "name": "python"
    }
  },
  "cells": [
    {
      "cell_type": "markdown",
      "metadata": {
        "id": "view-in-github",
        "colab_type": "text"
      },
      "source": [
        "<a href=\"https://colab.research.google.com/github/KangPixel/AIFFEL_quest_cr/blob/master/Python/Project/Node_6.ipynb\" target=\"_parent\"><img src=\"https://colab.research.google.com/assets/colab-badge.svg\" alt=\"Open In Colab\"/></a>"
      ]
    },
    {
      "cell_type": "markdown",
      "source": [
        "# 6-1. digit : 손글씨를 분류해 보기."
      ],
      "metadata": {
        "id": "AnDhQhghGMaT"
      }
    },
    {
      "cell_type": "code",
      "execution_count": 57,
      "metadata": {
        "colab": {
          "base_uri": "https://localhost:8080/"
        },
        "id": "5RJWP-Ty3kLS",
        "outputId": "90939659-37cf-4310-fb4d-bc18b6eef530"
      },
      "outputs": [
        {
          "output_type": "stream",
          "name": "stdout",
          "text": [
            "[0 1 2 3 4 5 6 7 8 9]\n",
            "--------------------------------------------------\n",
            "digits_data shape: (1797, 64)\n",
            "digits_label shape: (1797,)\n",
            "First feature sample:\n",
            "[ 0.  0.  5. 13.  9.  1.  0.  0.  0.  0. 13. 15. 10. 15.  5.  0.  0.  3.\n",
            " 15.  2.  0. 11.  8.  0.  0.  4. 12.  0.  0.  8.  8.  0.  0.  5.  8.  0.\n",
            "  0.  9.  8.  0.  0.  4. 11.  0.  1. 12.  7.  0.  0.  2. 14.  5. 10. 12.\n",
            "  0.  0.  0.  0.  6. 13. 10.  0.  0.  0.]\n",
            "First label sample: 0\n"
          ]
        }
      ],
      "source": [
        "import sklearn\n",
        "# 필요 모듈\n",
        "from sklearn.datasets import load_digits\n",
        "from sklearn.model_selection import train_test_split\n",
        "from sklearn.metrics import classification_report\n",
        "# 모델들\n",
        "from sklearn.tree import DecisionTreeClassifier\n",
        "from sklearn.ensemble import RandomForestClassifier\n",
        "from sklearn import svm\n",
        "from sklearn.linear_model import SGDClassifier\n",
        "from sklearn.linear_model import LogisticRegression\n",
        "\n",
        "# 데이터 준비\n",
        "digits = load_digits()\n",
        "\n",
        "# Feature Data 지정하기\n",
        "# Label Data 지정하기\n",
        "# Target Names 출력해 보기\n",
        "# 데이터 Describe 해 보기\n",
        "\n",
        "digits_data = digits.data\n",
        "digits_label = digits.target\n",
        "print(digits.target_names)\n",
        "print('-'*50)\n",
        "print(f\"digits_data shape: {digits_data.shape}\")\n",
        "print(f\"digits_label shape: {digits_label.shape}\")\n",
        "print(f\"First feature sample:\\n{digits_data[0]}\")\n",
        "print(f\"First label sample: {digits_label[0]}\")\n",
        "# print(digits.DESCR)\n",
        "\n",
        "# train, test데이터 분리\n",
        "x_train, x_test, y_train, y_test = train_test_split(digits_data,\n",
        "                                                    digits_label,\n",
        "                                                    test_size=0.2,\n",
        "                                                    random_state=7)"
      ]
    },
    {
      "cell_type": "code",
      "source": [
        "# 테스트 하는 부분 수\n",
        "# digits_data.shape\n",
        "x_test.shape"
      ],
      "metadata": {
        "colab": {
          "base_uri": "https://localhost:8080/"
        },
        "id": "_ngrmPTcLsMI",
        "outputId": "89e1db52-9cb3-41b2-bd4a-0eac062754f1"
      },
      "execution_count": 58,
      "outputs": [
        {
          "output_type": "execute_result",
          "data": {
            "text/plain": [
              "(360, 64)"
            ]
          },
          "metadata": {},
          "execution_count": 58
        }
      ]
    },
    {
      "cell_type": "code",
      "source": [
        "# 다양한 모델 학습\n",
        "# Decision Tree\n",
        "decision_tree = DecisionTreeClassifier(random_state=32)\n",
        "decision_tree.fit(x_train, y_train)\n",
        "y_dt_pred = decision_tree.predict(x_test)\n",
        "\n",
        "print(classification_report(y_test, y_dt_pred))"
      ],
      "metadata": {
        "colab": {
          "base_uri": "https://localhost:8080/"
        },
        "id": "341mYBl58lZA",
        "outputId": "47005fb5-2d2b-4184-903e-d1140329b9eb"
      },
      "execution_count": 59,
      "outputs": [
        {
          "output_type": "stream",
          "name": "stdout",
          "text": [
            "              precision    recall  f1-score   support\n",
            "\n",
            "           0       1.00      0.98      0.99        43\n",
            "           1       0.81      0.81      0.81        42\n",
            "           2       0.79      0.82      0.80        40\n",
            "           3       0.79      0.91      0.85        34\n",
            "           4       0.83      0.95      0.89        37\n",
            "           5       0.90      0.96      0.93        28\n",
            "           6       0.84      0.93      0.88        28\n",
            "           7       0.96      0.82      0.89        33\n",
            "           8       0.88      0.65      0.75        43\n",
            "           9       0.78      0.78      0.78        32\n",
            "\n",
            "    accuracy                           0.86       360\n",
            "   macro avg       0.86      0.86      0.86       360\n",
            "weighted avg       0.86      0.86      0.85       360\n",
            "\n"
          ]
        }
      ]
    },
    {
      "cell_type": "code",
      "source": [
        "# Random Forest\n",
        "random_forest = RandomForestClassifier(random_state=32)\n",
        "random_forest.fit(x_train, y_train)\n",
        "y_rf_pred = random_forest.predict(x_test)\n",
        "\n",
        "print(classification_report(y_test, y_rf_pred))"
      ],
      "metadata": {
        "colab": {
          "base_uri": "https://localhost:8080/"
        },
        "id": "fRriE4R68rx1",
        "outputId": "f93b1b11-4898-4256-9ffc-c82b1f80607a"
      },
      "execution_count": 60,
      "outputs": [
        {
          "output_type": "stream",
          "name": "stdout",
          "text": [
            "              precision    recall  f1-score   support\n",
            "\n",
            "           0       1.00      0.98      0.99        43\n",
            "           1       0.93      1.00      0.97        42\n",
            "           2       1.00      1.00      1.00        40\n",
            "           3       1.00      1.00      1.00        34\n",
            "           4       0.93      1.00      0.96        37\n",
            "           5       0.90      0.96      0.93        28\n",
            "           6       1.00      0.96      0.98        28\n",
            "           7       0.94      0.97      0.96        33\n",
            "           8       1.00      0.84      0.91        43\n",
            "           9       0.94      0.94      0.94        32\n",
            "\n",
            "    accuracy                           0.96       360\n",
            "   macro avg       0.96      0.96      0.96       360\n",
            "weighted avg       0.97      0.96      0.96       360\n",
            "\n"
          ]
        }
      ]
    },
    {
      "cell_type": "code",
      "source": [
        "# SVM\n",
        "svm_model = svm.SVC()\n",
        "svm_model.fit(x_train, y_train)\n",
        "y_svm_pred = svm_model.predict(x_test)\n",
        "\n",
        "print(classification_report(y_test, y_svm_pred))"
      ],
      "metadata": {
        "colab": {
          "base_uri": "https://localhost:8080/"
        },
        "id": "BrdQB65D-4zv",
        "outputId": "b6dad0dc-47a6-405d-b1b1-2d3ce851321b"
      },
      "execution_count": 61,
      "outputs": [
        {
          "output_type": "stream",
          "name": "stdout",
          "text": [
            "              precision    recall  f1-score   support\n",
            "\n",
            "           0       1.00      1.00      1.00        43\n",
            "           1       0.95      1.00      0.98        42\n",
            "           2       1.00      1.00      1.00        40\n",
            "           3       1.00      1.00      1.00        34\n",
            "           4       1.00      1.00      1.00        37\n",
            "           5       0.93      1.00      0.97        28\n",
            "           6       1.00      1.00      1.00        28\n",
            "           7       1.00      1.00      1.00        33\n",
            "           8       1.00      0.93      0.96        43\n",
            "           9       1.00      0.97      0.98        32\n",
            "\n",
            "    accuracy                           0.99       360\n",
            "   macro avg       0.99      0.99      0.99       360\n",
            "weighted avg       0.99      0.99      0.99       360\n",
            "\n"
          ]
        }
      ]
    },
    {
      "cell_type": "code",
      "source": [
        "# SGD Classifier\n",
        "sgd_model = SGDClassifier()\n",
        "sgd_model.fit(x_train, y_train)\n",
        "y_sgd_pred = sgd_model.predict(x_test)\n",
        "\n",
        "print(classification_report(y_test, y_sgd_pred))"
      ],
      "metadata": {
        "colab": {
          "base_uri": "https://localhost:8080/"
        },
        "id": "uScdbzgG-7VF",
        "outputId": "4d68af0a-3b10-487b-97cf-834b98140640"
      },
      "execution_count": 62,
      "outputs": [
        {
          "output_type": "stream",
          "name": "stdout",
          "text": [
            "              precision    recall  f1-score   support\n",
            "\n",
            "           0       1.00      1.00      1.00        43\n",
            "           1       0.90      0.86      0.88        42\n",
            "           2       0.95      1.00      0.98        40\n",
            "           3       0.94      0.88      0.91        34\n",
            "           4       1.00      0.97      0.99        37\n",
            "           5       0.96      0.96      0.96        28\n",
            "           6       0.96      0.93      0.95        28\n",
            "           7       0.97      0.94      0.95        33\n",
            "           8       0.91      0.91      0.91        43\n",
            "           9       0.81      0.94      0.87        32\n",
            "\n",
            "    accuracy                           0.94       360\n",
            "   macro avg       0.94      0.94      0.94       360\n",
            "weighted avg       0.94      0.94      0.94       360\n",
            "\n"
          ]
        }
      ]
    },
    {
      "cell_type": "code",
      "source": [
        "# Logistic Regression\n",
        "logistic_model = LogisticRegression()\n",
        "logistic_model.fit(x_train, y_train)\n",
        "y_lg_pred = logistic_model.predict(x_test)\n",
        "\n",
        "print(classification_report(y_test, y_lg_pred))"
      ],
      "metadata": {
        "colab": {
          "base_uri": "https://localhost:8080/"
        },
        "id": "5mC09Aap-7ny",
        "outputId": "20eb6e56-0bbb-4ef0-988c-2123e40acf72"
      },
      "execution_count": 63,
      "outputs": [
        {
          "output_type": "stream",
          "name": "stdout",
          "text": [
            "              precision    recall  f1-score   support\n",
            "\n",
            "           0       1.00      1.00      1.00        43\n",
            "           1       0.95      0.95      0.95        42\n",
            "           2       0.98      1.00      0.99        40\n",
            "           3       0.94      0.97      0.96        34\n",
            "           4       0.97      1.00      0.99        37\n",
            "           5       0.82      0.96      0.89        28\n",
            "           6       1.00      0.96      0.98        28\n",
            "           7       0.97      0.97      0.97        33\n",
            "           8       0.92      0.81      0.86        43\n",
            "           9       0.97      0.91      0.94        32\n",
            "\n",
            "    accuracy                           0.95       360\n",
            "   macro avg       0.95      0.95      0.95       360\n",
            "weighted avg       0.95      0.95      0.95       360\n",
            "\n"
          ]
        },
        {
          "output_type": "stream",
          "name": "stderr",
          "text": [
            "/usr/local/lib/python3.10/dist-packages/sklearn/linear_model/_logistic.py:460: ConvergenceWarning: lbfgs failed to converge (status=1):\n",
            "STOP: TOTAL NO. of ITERATIONS REACHED LIMIT.\n",
            "\n",
            "Increase the number of iterations (max_iter) or scale the data as shown in:\n",
            "    https://scikit-learn.org/stable/modules/preprocessing.html\n",
            "Please also refer to the documentation for alternative solver options:\n",
            "    https://scikit-learn.org/stable/modules/linear_model.html#logistic-regression\n",
            "  n_iter_i = _check_optimize_result(\n"
          ]
        }
      ]
    },
    {
      "cell_type": "markdown",
      "source": [
        "## 모델 평가\n",
        "### 종합적인 F1-score를 기준\n",
        "\n",
        "Decision Tree  \n",
        "- 평균 86%  \n",
        "\n",
        "Random Forest  \n",
        "- 평균 96%  \n",
        "\n",
        "SVM\n",
        "- 평균 99%\n",
        "\n",
        "SGD Classifier\n",
        "- 평균 94%\n",
        "\n",
        "Logistic Regression\n",
        "- 평균 95%\n",
        "---\n",
        "SVM이 정확도가 가장 높게 학습함.\n",
        "---"
      ],
      "metadata": {
        "id": "KfadrJcm_VqK"
      }
    },
    {
      "cell_type": "markdown",
      "source": [
        "# 6-2. wine : 와인을 분류해 보기."
      ],
      "metadata": {
        "id": "ER5zxy69GdzH"
      }
    },
    {
      "cell_type": "code",
      "source": [
        "# 필요 모듈\n",
        "from sklearn.datasets import load_wine\n",
        "# 이미 위에서 import 했음.\n",
        "# 만약 새로 할 경우 아래 주석을 풀고 실행\n",
        "'''\n",
        "from sklearn.model_selection import train_test_split\n",
        "from sklearn.metrics import classification_report\n",
        "# 모델들\n",
        "from sklearn.tree import DecisionTreeClassifier\n",
        "from sklearn.ensemble import RandomForestClassifier\n",
        "from sklearn import svm\n",
        "from sklearn.linear_model import SGDClassifier\n",
        "from sklearn.linear_model import LogisticRegression\n",
        "'''\n",
        "\n",
        "# 데이터 준비\n",
        "wine = load_wine()\n",
        "\n",
        "# Feature Data 지정하기\n",
        "# Label Data 지정하기\n",
        "# Target Names 출력해 보기\n",
        "# 데이터 Describe 해 보기\n",
        "wine_data = wine.data\n",
        "wine_label = wine.target\n",
        "print(wine.target_names)\n",
        "print('-'*50)\n",
        "print(f\"digits_data shape: {wine_data.shape}\")\n",
        "print(f\"digits_label shape: {wine_label.shape}\")\n",
        "print(f\"First feature sample:\\n{wine_data[0]}\")\n",
        "print(f\"First label sample: {wine_label[0]}\")\n",
        "\n",
        "# train, test 데이터 분리\n",
        "x_train, x_test, y_train, y_test = train_test_split(wine_data,\n",
        "                                                    wine_label,\n",
        "                                                    test_size=0.2,\n",
        "                                                    random_state=7)"
      ],
      "metadata": {
        "colab": {
          "base_uri": "https://localhost:8080/"
        },
        "id": "Tw93iyjcGeEH",
        "outputId": "a090a2db-281b-4d79-bb9f-ed721d503c25"
      },
      "execution_count": 64,
      "outputs": [
        {
          "output_type": "stream",
          "name": "stdout",
          "text": [
            "['class_0' 'class_1' 'class_2']\n",
            "--------------------------------------------------\n",
            "digits_data shape: (178, 13)\n",
            "digits_label shape: (178,)\n",
            "First feature sample:\n",
            "[1.423e+01 1.710e+00 2.430e+00 1.560e+01 1.270e+02 2.800e+00 3.060e+00\n",
            " 2.800e-01 2.290e+00 5.640e+00 1.040e+00 3.920e+00 1.065e+03]\n",
            "First label sample: 0\n"
          ]
        }
      ]
    },
    {
      "cell_type": "code",
      "source": [
        "# 다양한 모델로 학습\n",
        "# 6-1에서 해본 결과 함수 불러오는 부분은 생략 가능\n",
        "# 6-1에서 해본 결과 학습 부분만 따로 모아야 가시성이 좋아보임\n",
        "# 만약 새로 할 경우 아래 주석을 풀고 실행\n",
        "\n",
        "# Decision Tree\n",
        "# decision_tree = DecisionTreeClassifier(random_state=32)\n",
        "decision_tree.fit(x_train, y_train)\n",
        "y_dt_pred = decision_tree.predict(x_test)\n",
        "\n",
        "# Random Forest\n",
        "# random_forest = RandomForestClassifier(random_state=32)\n",
        "random_forest.fit(x_train, y_train)\n",
        "y_rf_pred = random_forest.predict(x_test)\n",
        "\n",
        "# SVM\n",
        "# svm_model = svm.SVC()\n",
        "svm_model.fit(x_train, y_train)\n",
        "y_svm_pred = svm_model.predict(x_test)\n",
        "\n",
        "# SGD Classifier\n",
        "# sgd_model = SGDClassifier()\n",
        "sgd_model.fit(x_train, y_train)\n",
        "y_sgd_pred = sgd_model.predict(x_test)\n",
        "\n",
        "# Logistic Regression\n",
        "# logistic_model = Logistic\n",
        "logistic_model.fit(x_train, y_train)\n",
        "y_lg_pred = logistic_model.predict(x_test)"
      ],
      "metadata": {
        "colab": {
          "base_uri": "https://localhost:8080/"
        },
        "id": "zmHa3PujIDr3",
        "outputId": "28f923a3-4d12-4dea-9309-726335558e0e"
      },
      "execution_count": 65,
      "outputs": [
        {
          "output_type": "stream",
          "name": "stderr",
          "text": [
            "/usr/local/lib/python3.10/dist-packages/sklearn/linear_model/_logistic.py:460: ConvergenceWarning: lbfgs failed to converge (status=1):\n",
            "STOP: TOTAL NO. of ITERATIONS REACHED LIMIT.\n",
            "\n",
            "Increase the number of iterations (max_iter) or scale the data as shown in:\n",
            "    https://scikit-learn.org/stable/modules/preprocessing.html\n",
            "Please also refer to the documentation for alternative solver options:\n",
            "    https://scikit-learn.org/stable/modules/linear_model.html#logistic-regression\n",
            "  n_iter_i = _check_optimize_result(\n"
          ]
        }
      ]
    },
    {
      "cell_type": "code",
      "source": [
        "# 모델 평가\n",
        "print('Decision Tree')          # Decision Tree 결과\n",
        "print(classification_report(y_test, y_dt_pred))\n",
        "print('-'*50)\n",
        "\n",
        "print('Random Forest')          # Random Forest 결과\n",
        "print(classification_report(y_test, y_rf_pred))\n",
        "print('-'*50)\n",
        "\n",
        "print('SVM')                    #SVM 결과\n",
        "print(classification_report(y_test, y_svm_pred))\n",
        "print('-'*50)\n",
        "\n",
        "print('SGD Classifier')         #SGD Classifier 결과\n",
        "print(classification_report(y_test, y_sgd_pred))\n",
        "print('-'*50)\n",
        "\n",
        "print('Logistic Regression')    # Logistic Regression 결과\n",
        "print(classification_report(y_test, y_lg_pred))"
      ],
      "metadata": {
        "colab": {
          "base_uri": "https://localhost:8080/"
        },
        "id": "Utli69ASO2FC",
        "outputId": "3c226b7d-6f2c-401e-ff25-41858f3de316"
      },
      "execution_count": 66,
      "outputs": [
        {
          "output_type": "stream",
          "name": "stdout",
          "text": [
            "Decision Tree\n",
            "              precision    recall  f1-score   support\n",
            "\n",
            "           0       1.00      1.00      1.00         7\n",
            "           1       0.89      1.00      0.94        17\n",
            "           2       1.00      0.83      0.91        12\n",
            "\n",
            "    accuracy                           0.94        36\n",
            "   macro avg       0.96      0.94      0.95        36\n",
            "weighted avg       0.95      0.94      0.94        36\n",
            "\n",
            "--------------------------------------------------\n",
            "Random Forest\n",
            "              precision    recall  f1-score   support\n",
            "\n",
            "           0       1.00      1.00      1.00         7\n",
            "           1       1.00      1.00      1.00        17\n",
            "           2       1.00      1.00      1.00        12\n",
            "\n",
            "    accuracy                           1.00        36\n",
            "   macro avg       1.00      1.00      1.00        36\n",
            "weighted avg       1.00      1.00      1.00        36\n",
            "\n",
            "--------------------------------------------------\n",
            "SVM\n",
            "              precision    recall  f1-score   support\n",
            "\n",
            "           0       0.86      0.86      0.86         7\n",
            "           1       0.58      0.88      0.70        17\n",
            "           2       0.33      0.08      0.13        12\n",
            "\n",
            "    accuracy                           0.61        36\n",
            "   macro avg       0.59      0.61      0.56        36\n",
            "weighted avg       0.55      0.61      0.54        36\n",
            "\n",
            "--------------------------------------------------\n",
            "SGD Classifier\n",
            "              precision    recall  f1-score   support\n",
            "\n",
            "           0       0.54      1.00      0.70         7\n",
            "           1       0.65      0.88      0.75        17\n",
            "           2       0.00      0.00      0.00        12\n",
            "\n",
            "    accuracy                           0.61        36\n",
            "   macro avg       0.40      0.63      0.48        36\n",
            "weighted avg       0.41      0.61      0.49        36\n",
            "\n",
            "--------------------------------------------------\n",
            "Logistic Regression\n",
            "              precision    recall  f1-score   support\n",
            "\n",
            "           0       1.00      0.86      0.92         7\n",
            "           1       0.94      1.00      0.97        17\n",
            "           2       1.00      1.00      1.00        12\n",
            "\n",
            "    accuracy                           0.97        36\n",
            "   macro avg       0.98      0.95      0.96        36\n",
            "weighted avg       0.97      0.97      0.97        36\n",
            "\n"
          ]
        },
        {
          "output_type": "stream",
          "name": "stderr",
          "text": [
            "/usr/local/lib/python3.10/dist-packages/sklearn/metrics/_classification.py:1471: UndefinedMetricWarning: Precision and F-score are ill-defined and being set to 0.0 in labels with no predicted samples. Use `zero_division` parameter to control this behavior.\n",
            "  _warn_prf(average, modifier, msg_start, len(result))\n",
            "/usr/local/lib/python3.10/dist-packages/sklearn/metrics/_classification.py:1471: UndefinedMetricWarning: Precision and F-score are ill-defined and being set to 0.0 in labels with no predicted samples. Use `zero_division` parameter to control this behavior.\n",
            "  _warn_prf(average, modifier, msg_start, len(result))\n",
            "/usr/local/lib/python3.10/dist-packages/sklearn/metrics/_classification.py:1471: UndefinedMetricWarning: Precision and F-score are ill-defined and being set to 0.0 in labels with no predicted samples. Use `zero_division` parameter to control this behavior.\n",
            "  _warn_prf(average, modifier, msg_start, len(result))\n"
          ]
        }
      ]
    },
    {
      "cell_type": "markdown",
      "source": [
        "## 모델 평가\n",
        "### 종합적인 F1-score를 기준\n",
        "\n",
        "Decision Tree  \n",
        "- 평균 94%  \n",
        "\n",
        "Random Forest  \n",
        "- 평균 100%  \n",
        "\n",
        "SVM\n",
        "- 평균 61%\n",
        "\n",
        "SGD Classifier\n",
        "- 평균 61%\n",
        "\n",
        "Logistic Regression\n",
        "- 평균 97%\n",
        "---\n",
        "Random Forest가 정확도가 가장 높게 학습함.\n",
        "---"
      ],
      "metadata": {
        "id": "LBGaVWRNQhRj"
      }
    },
    {
      "cell_type": "markdown",
      "source": [
        "# 6-3. breast_cancer : 유방암 여부를 진단해 보기."
      ],
      "metadata": {
        "id": "0utn2nGtQsBq"
      }
    },
    {
      "cell_type": "code",
      "source": [
        "# 필요 모듈\n",
        "from sklearn.datasets import load_breast_cancer\n",
        "# 이미 '6-1'에서 import 했음.\n",
        "# 만약 새로 할 경우 아래 주석을 풀고 실행\n",
        "'''\n",
        "from sklearn.model_selection import train_test_split\n",
        "from sklearn.metrics import classification_report\n",
        "# 모델들\n",
        "from sklearn.tree import DecisionTreeClassifier\n",
        "from sklearn.ensemble import RandomForestClassifier\n",
        "from sklearn import svm\n",
        "from sklearn.linear_model import SGDClassifier\n",
        "from sklearn.linear_model import LogisticRegression\n",
        "'''\n",
        "\n",
        "# 데이터 준비\n",
        "cancer = load_breast_cancer()\n",
        "\n",
        "# Feature Data 지정하기\n",
        "# Label Data 지정하기\n",
        "# Target Names 출력해 보기\n",
        "# 데이터 Describe 해 보기\n",
        "cancer_data = cancer.data\n",
        "cancer_label = cancer.target\n",
        "print(cancer.target_names)\n",
        "print('-'*50)\n",
        "print(f\"digits_data shape: {cancer_data.shape}\")\n",
        "print(f\"digits_label shape: {cancer_label.shape}\")\n",
        "print(f\"First feature sample:\\n{cancer_data[0]}\")\n",
        "print(f\"First label sample: {cancer_label[0]}\")\n",
        "\n",
        "# train, test 데이터 분리\n",
        "x_train, x_test, y_train, y_test = train_test_split(cancer_data,\n",
        "                                                    cancer_label,\n",
        "                                                    test_size=0.2,\n",
        "                                                    random_state=7)"
      ],
      "metadata": {
        "colab": {
          "base_uri": "https://localhost:8080/"
        },
        "id": "zj4xKOVgRLPS",
        "outputId": "cb23cc9c-892a-4a74-89c0-c5c78a23d09b"
      },
      "execution_count": 67,
      "outputs": [
        {
          "output_type": "stream",
          "name": "stdout",
          "text": [
            "['malignant' 'benign']\n",
            "--------------------------------------------------\n",
            "digits_data shape: (569, 30)\n",
            "digits_label shape: (569,)\n",
            "First feature sample:\n",
            "[1.799e+01 1.038e+01 1.228e+02 1.001e+03 1.184e-01 2.776e-01 3.001e-01\n",
            " 1.471e-01 2.419e-01 7.871e-02 1.095e+00 9.053e-01 8.589e+00 1.534e+02\n",
            " 6.399e-03 4.904e-02 5.373e-02 1.587e-02 3.003e-02 6.193e-03 2.538e+01\n",
            " 1.733e+01 1.846e+02 2.019e+03 1.622e-01 6.656e-01 7.119e-01 2.654e-01\n",
            " 4.601e-01 1.189e-01]\n",
            "First label sample: 0\n"
          ]
        }
      ]
    },
    {
      "cell_type": "code",
      "source": [
        "# 다양한 모델로 학습\n",
        "# '6-1'에서 해본 결과 함수 불러오는 부분은 생략 가능\n",
        "# 만약 새로 할 경우 아래 주석을 풀고 실행\n",
        "\n",
        "# Decision Tree\n",
        "# decision_tree = DecisionTreeClassifier(random_state=32)\n",
        "decision_tree.fit(x_train, y_train)\n",
        "y_dt_pred = decision_tree.predict(x_test)\n",
        "\n",
        "# Random Forest\n",
        "# random_forest = RandomForestClassifier(random_state=32)\n",
        "random_forest.fit(x_train, y_train)\n",
        "y_rf_pred = random_forest.predict(x_test)\n",
        "\n",
        "# SVM\n",
        "# svm_model = svm.SVC()\n",
        "svm_model.fit(x_train, y_train)\n",
        "y_svm_pred = svm_model.predict(x_test)\n",
        "\n",
        "# SGD Classifier\n",
        "# sgd_model = SGDClassifier()\n",
        "sgd_model.fit(x_train, y_train)\n",
        "y_sgd_pred = sgd_model.predict(x_test)\n",
        "\n",
        "# Logistic Regression\n",
        "# logistic_model = Logistic\n",
        "logistic_model.fit(x_train, y_train)\n",
        "y_lg_pred = logistic_model.predict(x_test)"
      ],
      "metadata": {
        "colab": {
          "base_uri": "https://localhost:8080/"
        },
        "id": "FAa97aOXSNtt",
        "outputId": "b20eb612-82a4-46f7-e182-f15e2131be25"
      },
      "execution_count": 68,
      "outputs": [
        {
          "output_type": "stream",
          "name": "stderr",
          "text": [
            "/usr/local/lib/python3.10/dist-packages/sklearn/linear_model/_logistic.py:460: ConvergenceWarning: lbfgs failed to converge (status=1):\n",
            "STOP: TOTAL NO. of ITERATIONS REACHED LIMIT.\n",
            "\n",
            "Increase the number of iterations (max_iter) or scale the data as shown in:\n",
            "    https://scikit-learn.org/stable/modules/preprocessing.html\n",
            "Please also refer to the documentation for alternative solver options:\n",
            "    https://scikit-learn.org/stable/modules/linear_model.html#logistic-regression\n",
            "  n_iter_i = _check_optimize_result(\n"
          ]
        }
      ]
    },
    {
      "cell_type": "code",
      "source": [
        "# 모델 평가\n",
        "print('Decision Tree')          # Decision Tree 결과\n",
        "print(classification_report(y_test, y_dt_pred))\n",
        "print('-'*50)\n",
        "\n",
        "print('Random Forest')          # Random Forest 결과\n",
        "print(classification_report(y_test, y_rf_pred))\n",
        "print('-'*50)\n",
        "\n",
        "print('SVM')                    #SVM 결과\n",
        "print(classification_report(y_test, y_svm_pred))\n",
        "print('-'*50)\n",
        "\n",
        "print('SGD Classifier')         #SGD Classifier 결과\n",
        "print(classification_report(y_test, y_sgd_pred))\n",
        "print('-'*50)\n",
        "\n",
        "print('Logistic Regression')    # Logistic Regression 결과\n",
        "print(classification_report(y_test, y_lg_pred))"
      ],
      "metadata": {
        "colab": {
          "base_uri": "https://localhost:8080/"
        },
        "id": "Vv6Mh9YaSbY6",
        "outputId": "89653378-853b-4b11-de56-7a159e1eaf50"
      },
      "execution_count": 69,
      "outputs": [
        {
          "output_type": "stream",
          "name": "stdout",
          "text": [
            "Decision Tree\n",
            "              precision    recall  f1-score   support\n",
            "\n",
            "           0       0.92      0.82      0.87        40\n",
            "           1       0.91      0.96      0.93        74\n",
            "\n",
            "    accuracy                           0.91       114\n",
            "   macro avg       0.91      0.89      0.90       114\n",
            "weighted avg       0.91      0.91      0.91       114\n",
            "\n",
            "--------------------------------------------------\n",
            "Random Forest\n",
            "              precision    recall  f1-score   support\n",
            "\n",
            "           0       1.00      1.00      1.00        40\n",
            "           1       1.00      1.00      1.00        74\n",
            "\n",
            "    accuracy                           1.00       114\n",
            "   macro avg       1.00      1.00      1.00       114\n",
            "weighted avg       1.00      1.00      1.00       114\n",
            "\n",
            "--------------------------------------------------\n",
            "SVM\n",
            "              precision    recall  f1-score   support\n",
            "\n",
            "           0       1.00      0.72      0.84        40\n",
            "           1       0.87      1.00      0.93        74\n",
            "\n",
            "    accuracy                           0.90       114\n",
            "   macro avg       0.94      0.86      0.89       114\n",
            "weighted avg       0.92      0.90      0.90       114\n",
            "\n",
            "--------------------------------------------------\n",
            "SGD Classifier\n",
            "              precision    recall  f1-score   support\n",
            "\n",
            "           0       1.00      0.47      0.64        40\n",
            "           1       0.78      1.00      0.88        74\n",
            "\n",
            "    accuracy                           0.82       114\n",
            "   macro avg       0.89      0.74      0.76       114\n",
            "weighted avg       0.86      0.82      0.79       114\n",
            "\n",
            "--------------------------------------------------\n",
            "Logistic Regression\n",
            "              precision    recall  f1-score   support\n",
            "\n",
            "           0       1.00      0.82      0.90        40\n",
            "           1       0.91      1.00      0.95        74\n",
            "\n",
            "    accuracy                           0.94       114\n",
            "   macro avg       0.96      0.91      0.93       114\n",
            "weighted avg       0.94      0.94      0.94       114\n",
            "\n"
          ]
        }
      ]
    },
    {
      "cell_type": "markdown",
      "source": [
        "## 모델 평가\n",
        "### 종합적인 F1-score를 기준\n",
        "\n",
        "Decision Tree  \n",
        "- 평균 91%  \n",
        "\n",
        "Random Forest  \n",
        "- 평균 100%  \n",
        "\n",
        "SVM\n",
        "- 평균 90%\n",
        "\n",
        "SGD Classifier\n",
        "- 평균 82%\n",
        "\n",
        "Logistic Regression\n",
        "- 평균 94%\n",
        "---\n",
        "Random Forest가 정확도가 가장 높게 학습함.  - 의심이 들정도로 100%...-\n",
        "---"
      ],
      "metadata": {
        "id": "xEvEYSUsRLgx"
      }
    },
    {
      "cell_type": "markdown",
      "source": [
        "# 의문점\n",
        "같은 값으로 돌렸을 경우  \n",
        "SGD Classifier 모델이 계속 정확도가 오름.  \n",
        "- 6-1.손글씨 : 93% >> 94%\n",
        "- 6-2.와인&nbsp;&nbsp;&nbsp;&nbsp;&nbsp;: 50% >> 61%\n",
        "- 6-3.유방암 : 52% >> 82%"
      ],
      "metadata": {
        "id": "SYIxNjpzUVw7"
      }
    }
  ]
}