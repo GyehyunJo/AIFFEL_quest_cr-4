{
  "nbformat": 4,
  "nbformat_minor": 0,
  "metadata": {
    "colab": {
      "provenance": [],
      "authorship_tag": "ABX9TyORfxonRqXlIR+br/3fGha8",
      "include_colab_link": true
    },
    "kernelspec": {
      "name": "python3",
      "display_name": "Python 3"
    },
    "language_info": {
      "name": "python"
    }
  },
  "cells": [
    {
      "cell_type": "markdown",
      "metadata": {
        "id": "view-in-github",
        "colab_type": "text"
      },
      "source": [
        "<a href=\"https://colab.research.google.com/github/KangPixel/AIFFEL_quest_cr/blob/master/Python/Project_Square_Kiosk.ipynb\" target=\"_parent\"><img src=\"https://colab.research.google.com/assets/colab-badge.svg\" alt=\"Open In Colab\"/></a>"
      ]
    },
    {
      "cell_type": "markdown",
      "source": [
        "# 사각형 넓이 구하기"
      ],
      "metadata": {
        "id": "ytXYE68Eer6D"
      }
    },
    {
      "cell_type": "code",
      "execution_count": 1,
      "metadata": {
        "id": "rBrG4zhxdalS"
      },
      "outputs": [],
      "source": [
        "class Square:\n",
        "    def __init__(self):\n",
        "        self.square = int(input('넓이를 구하고 싶은 사각형의 숫자를 써주세요.\\n 1.직사각형 2.평행사변형 3.사다리꼴 \\n >>>'))\n",
        "\n",
        "        if self.square == 1:\n",
        "            print('직사각형 함수는 rect()입니다.')\n",
        "\n",
        "        elif self.square == 2:\n",
        "            print('평행사변형 함수는 par()입니다.')\n",
        "\n",
        "        elif self.square == 3:\n",
        "            print('사다리꼴 함수는 trape()입니다.')\n",
        "\n",
        "        else:\n",
        "            print('1, 2, 3 중에서 다시 입력해주세요')\n",
        "\n",
        "    def rect(self):\n",
        "        width, vertical = map(int, input('가로, 세로를 입력하세요. 예시 : 가로,세로\\n >>>').split(','))\n",
        "        area = width * vertical\n",
        "        result = print('직사각형의 넓이는 : ' + str(area))\n",
        "        return result\n",
        "\n",
        "    def par(self):\n",
        "        bottom_line, hight = map(int, input('밑변, 높이를 입력하세요. 예시 : 밑변,높이\\n >>>').split(','))\n",
        "        area = bottom_line * hight\n",
        "        result = print('평행사변형의 넓이는 : ' + str(area))\n",
        "        return result\n",
        "\n",
        "    def trape(self):\n",
        "        bottom_line, top_line, hight = map(int, input('밑변, 윗변, 높이를 입력하세요. 예시 : 밑변,윗변,높이\\n >>>').split(','))\n",
        "        area = (bottom_line + top_line) * hight / 2\n",
        "        result = print('사다리꼴의 넓이는 : ' + str(area))\n",
        "        return result\n"
      ]
    },
    {
      "cell_type": "code",
      "source": [
        "a = Square()\n",
        "\n",
        "# 직사각형의 넓이\n",
        "a.rect()\n",
        "# 평형사변형의 넓이\n",
        "a.par()\n",
        "# 사다리꼴의 넓이\n",
        "a.trape()"
      ],
      "metadata": {
        "colab": {
          "base_uri": "https://localhost:8080/"
        },
        "id": "6jPz0tNKdjMO",
        "outputId": "e910f5cc-36da-42da-dd76-386d9c031cee"
      },
      "execution_count": 2,
      "outputs": [
        {
          "output_type": "stream",
          "name": "stdout",
          "text": [
            "넓이를 구하고 싶은 사각형의 숫자를 써주세요.\n",
            " 1.직사각형 2.평행사변형 3.사다리꼴 \n",
            " >>>1\n",
            "직사각형 함수는 rect()입니다.\n",
            "가로, 세로를 입력하세요. 예시 : 가로,세로\n",
            " >>>2,3\n",
            "직사각형의 넓이는 : 6\n",
            "밑변, 높이를 입력하세요. 예시 : 밑변,높이\n",
            " >>>2,4\n",
            "평행사변형의 넓이는 : 8\n",
            "밑변, 윗변, 높이를 입력하세요. 예시 : 밑변,윗변,높이\n",
            " >>>4,2,3\n",
            "사다리꼴의 넓이는 : 9.0\n"
          ]
        }
      ]
    },
    {
      "cell_type": "markdown",
      "source": [
        "# 키오스크 만들기"
      ],
      "metadata": {
        "id": "vy4BPDafeWcs"
      }
    },
    {
      "cell_type": "code",
      "source": [
        "#메뉴와 가격 리스트를 다차원 리스트로 변경하기\n",
        "# 메뉴 출력 enumerate() 함수 활용하기\n",
        "# datetime 모듈로 주문표에 주문 일시 추가하기 ✔\n",
        "# 데코레이터로 주문표 양식 출력하기\n",
        "from datetime import datetime\n",
        "\n",
        "menu = ['americano', 'latte', 'mocha', 'yuza_tea', 'green_tea', 'choco_latte']\n",
        "price = [2000, 3000, 3000, 2500, 2500, 3000]\n",
        "\n",
        "class Kiosk:\n",
        "    def __init__(self):\n",
        "        self.menu = menu\n",
        "        self.price = price\n",
        "        self.price_sum = 0\n",
        "\n",
        "    # 메뉴 출력 메서드\n",
        "    def menu_print(self):\n",
        "        for i in range(len(self.menu)):\n",
        "            print(i + 1, self.menu[i], ':', self.price[i], '원')\n",
        "\n",
        "    # 주문 메서드\n",
        "    def menu_select(self):\n",
        "        self.order_menu = []\n",
        "        self.order_price = []\n",
        "        n = 0\n",
        "        # 첫 주문\n",
        "        while n <1 or len(self.menu) < n:\n",
        "            try:\n",
        "                n = int(input('음료의 번호를 입력하세요 : '))\n",
        "            except ValueError:\n",
        "                print('\\'번호\\'로 입력하세요.')\n",
        "\n",
        "            if 1 <= n and n <= len(self.menu):\n",
        "                self.order_price.append(self.price[-1])\n",
        "                self.price_sum += self.price[n-1]\n",
        "            else:\n",
        "                print('없는 메뉴입니다. 다시 주문해 주세요.')\n",
        "\n",
        "        #온도 확인\n",
        "        t = 0\n",
        "        while t != 1 and t != 2:\n",
        "            try:\n",
        "                t = int(input('HOT 음료는 1을, ICE 음료는 2를 입력하세요 : '))\n",
        "            except ValueError:\n",
        "                pass\n",
        "\n",
        "            if t == 1:\n",
        "                self.temp = 'HOT'\n",
        "            elif t == 2:\n",
        "                self.temp = 'ICE'\n",
        "            else:\n",
        "                print('1과 2 중 하나를 입력하세요.')\n",
        "        self.order_menu.append(self.temp + ' ' + self.menu[n-1])\n",
        "        print(self.temp, self.menu[n-1], ':', self.price[n-1], '원')\n",
        "\n",
        "        # 추가주문\n",
        "        while n != 0:\n",
        "            print()\n",
        "            try:\n",
        "                n = int(input('추가 주문은 음료 번호를, 지불은 0을 입력하세요 : '))\n",
        "                if 1 <= n and n <= len(self.menu):\n",
        "                    t = 0\n",
        "                    while t != 1 and t != 2:\n",
        "                        try:\n",
        "                            t = int(input('HOT 음료는 1을, ICE 음료는 2를 입력하세요 : '))\n",
        "                        except ValueError:\n",
        "                            pass\n",
        "                        if t == 1:\n",
        "                            self.temp = 'HOT'\n",
        "                        elif t == 2:\n",
        "                            self.temp = 'ICE'\n",
        "                        else:\n",
        "                            print('1과 2 중 하나를 입력하세요.')\n",
        "                    self.order_price.append(self.price[n-1])\n",
        "                    self.order_menu.append(self.temp + ' ' + self.menu[n-1])\n",
        "                    self.price_sum += self.price[n-1]\n",
        "                elif n == 0:\n",
        "                    print('주문이 완료되었습니다.')\n",
        "                    print(self.order_menu, self.order_price)\n",
        "                else:\n",
        "                    print('없는 메뉴입니다. 다시 주문해 주세요.')\n",
        "            except ValueError:\n",
        "                print('\\'번호\\'로 입력하세요.')\n",
        "\n",
        "    # 지불\n",
        "    def pay(self):\n",
        "        payment = 0\n",
        "        print()\n",
        "        while True:\n",
        "            print('지불할 금액: ', self.price_sum, '원')\n",
        "            payment = input('지불 수단을 고르세요(현금:\\'cash\\' or 1, 카드:\\'card\\' or 2) : ')\n",
        "\n",
        "            if payment == 'cash' or payment == '1':\n",
        "                print('직원을 호출하겠습니다.')\n",
        "                break\n",
        "            elif payment == 'card' or payment == '2':\n",
        "                print('IC칩 방향에 맞게 카드를 꽂아주세요.')\n",
        "                break\n",
        "            else:\n",
        "                print('다시 결제를 시도해 주세요.')\n",
        "\n",
        "    # 주문서 출력\n",
        "    def table(self):\n",
        "        print('⟝' + '-' * 38 + '⟞')\n",
        "        for i in range(5):\n",
        "            print('|' + ' ' * 39 + '|')\n",
        "        for i in range(len(self.order_menu)):\n",
        "            print('|    ', self.order_menu[i], ' : ', self.order_price[i], '\\t\\t|')\n",
        "\n",
        "        print('|     합계 금액 :', self.price_sum, '\\t\\t|')\n",
        "        print('|' + ' ' * 39+ '|')\n",
        "        print('|주문 일시:',datetime.now(),'\\t|')\n",
        "        for i in range(4):\n",
        "            print('|' + ' ' * 39+ '|')\n",
        "        print('⟝' + '-' * 38 + '⟞')\n"
      ],
      "metadata": {
        "id": "etXSJylrd3nD"
      },
      "execution_count": 3,
      "outputs": []
    },
    {
      "cell_type": "code",
      "source": [
        "a = Kiosk()  # 객체 생성\n",
        "a.menu_print()  # 메뉴 출력\n",
        "a.menu_select()  # 주문\n",
        "a.pay()  # 지불\n",
        "a.table()  # 주문표 출력"
      ],
      "metadata": {
        "colab": {
          "base_uri": "https://localhost:8080/"
        },
        "id": "x3f0uRNvd_hW",
        "outputId": "39750794-9545-4dd3-aa30-83e70774fe80"
      },
      "execution_count": 4,
      "outputs": [
        {
          "output_type": "stream",
          "name": "stdout",
          "text": [
            "1 americano : 2000 원\n",
            "2 latte : 3000 원\n",
            "3 mocha : 3000 원\n",
            "4 yuza_tea : 2500 원\n",
            "5 green_tea : 2500 원\n",
            "6 choco_latte : 3000 원\n",
            "음료의 번호를 입력하세요 : 1\n",
            "HOT 음료는 1을, ICE 음료는 2를 입력하세요 : 2\n",
            "ICE americano : 2000 원\n",
            "\n",
            "추가 주문은 음료 번호를, 지불은 0을 입력하세요 : f\n",
            "'번호'로 입력하세요.\n",
            "\n",
            "추가 주문은 음료 번호를, 지불은 0을 입력하세요 : 6\n",
            "HOT 음료는 1을, ICE 음료는 2를 입력하세요 : 2\n",
            "\n",
            "추가 주문은 음료 번호를, 지불은 0을 입력하세요 : 2\n",
            "HOT 음료는 1을, ICE 음료는 2를 입력하세요 : 1\n",
            "\n",
            "추가 주문은 음료 번호를, 지불은 0을 입력하세요 : 4\n",
            "HOT 음료는 1을, ICE 음료는 2를 입력하세요 : 1\n",
            "\n",
            "추가 주문은 음료 번호를, 지불은 0을 입력하세요 : 5\n",
            "HOT 음료는 1을, ICE 음료는 2를 입력하세요 : 1\n",
            "\n",
            "추가 주문은 음료 번호를, 지불은 0을 입력하세요 : 0\n",
            "주문이 완료되었습니다.\n",
            "['ICE americano', 'ICE choco_latte', 'HOT latte', 'HOT yuza_tea', 'HOT green_tea'] [3000, 3000, 3000, 2500, 2500]\n",
            "\n",
            "지불할 금액:  13000 원\n",
            "지불 수단을 고르세요(현금:'cash' or 1, 카드:'card' or 2) : 2\n",
            "IC칩 방향에 맞게 카드를 꽂아주세요.\n",
            "⟝--------------------------------------⟞\n",
            "|                                       |\n",
            "|                                       |\n",
            "|                                       |\n",
            "|                                       |\n",
            "|                                       |\n",
            "|     ICE americano  :  3000 \t\t|\n",
            "|     ICE choco_latte  :  3000 \t\t|\n",
            "|     HOT latte  :  3000 \t\t|\n",
            "|     HOT yuza_tea  :  2500 \t\t|\n",
            "|     HOT green_tea  :  2500 \t\t|\n",
            "|     합계 금액 : 13000 \t\t|\n",
            "|                                       |\n",
            "|주문 일시: 2024-08-30 08:48:57.623059 \t|\n",
            "|                                       |\n",
            "|                                       |\n",
            "|                                       |\n",
            "|                                       |\n",
            "⟝--------------------------------------⟞\n"
          ]
        }
      ]
    }
  ]
}
