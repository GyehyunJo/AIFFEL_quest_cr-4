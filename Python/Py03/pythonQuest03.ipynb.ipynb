{
  "nbformat": 4,
  "nbformat_minor": 0,
  "metadata": {
    "colab": {
      "provenance": [],
      "include_colab_link": true
    },
    "kernelspec": {
      "name": "python3",
      "display_name": "Python 3"
    },
    "language_info": {
      "name": "python"
    }
  },
  "cells": [
    {
      "cell_type": "markdown",
      "metadata": {
        "id": "view-in-github",
        "colab_type": "text"
      },
      "source": [
        "<a href=\"https://colab.research.google.com/github/KangPixel/AIFFEL_quest_cr/blob/master/Python/Py03/pythonQuest03.ipynb.ipynb\" target=\"_parent\"><img src=\"https://colab.research.google.com/assets/colab-badge.svg\" alt=\"Open In Colab\"/></a>"
      ]
    },
    {
      "cell_type": "markdown",
      "source": [
        "# [파이썬] 퀘스트: 클로저를 활용한 문제해결하기\n",
        "\n",
        "난이도: ★★★★☆  \n",
        "장르: nonlocal, 클로저, 데코레이터 활용  \n",
        "\n",
        "---\n",
        "\n",
        "\n"
      ],
      "metadata": {
        "id": "sPRcyZsPorCm"
      }
    },
    {
      "cell_type": "markdown",
      "source": [
        "## 문제 1. 최댓값과 최솟값 찾기\n",
        "\n"
      ],
      "metadata": {
        "id": "Dh2vcnApr4VI"
      }
    },
    {
      "cell_type": "markdown",
      "source": [
        "조건:  \n",
        "* 주어진 리스트의 최댓값과 최솟값을 반환하는 클로저 함수를 완성해 주세요.\n",
        "    * 주어진 숫자 리스트 numbers에 대해 find_min_max 함수를 호출하면 find_min과 find_max 함수를 얻을 수 있습니다.\n",
        "    * find_min() 함수를 호출하면 최솟값을, find_max()함수를 호출하면 최댓값을 반환합니다.\n",
        "    * 클로저를 사용하여 min_value와 max_value 변수를 외부에 노출하지 않고도 최솟값과 최대값을 찾을 수 있습니다.\n",
        "    * find_min_max 함수가 호출된 이후에도 find_min과 find_max 함수를 통해 min_value와 max_value 변수에 접근할 수 있습니다.\n",
        "* 주석으로 구현 내용이 써있는 부분을 코드로 채워주세요.\n",
        "---\n",
        "입력:\n",
        "```python\n",
        "numbers = [10, 5, 8, 12, 3, 7]\n",
        "find_min, find_max = find_min_max(numbers)\n",
        "\n",
        "print(\"최솟값:\", find_min())  \n",
        "print(\"최댓값:\", find_max())  \n",
        "```\n",
        "---\n",
        "출력:\n",
        "```\n",
        "3\n",
        "12\n",
        "```\n"
      ],
      "metadata": {
        "id": "d-vXJztpvFD-"
      }
    },
    {
      "cell_type": "code",
      "source": [
        "def find_min_max(numbers):\n",
        "    # min_value와 max_value 변수를 초기화\n",
        "    # min_value는 양의 무한대(float('inf'))로 초기화하여 어떤 숫자보다도 큰 값으로 설정\n",
        "    min_value = float('inf')\n",
        "    # max_value는 음의 무한대(float('-inf'))로 초기화하여 어떤 숫자보다도 작은 값으로 설정\n",
        "    max_value = float('-inf')\n",
        "\n",
        "    def update_min_max(num):\n",
        "        # 외부함수의 변수인 min_value, max_value 참조\n",
        "\n",
        "\n",
        "        # 만약 num 값이 min_value보다 작다면 min_value를 num 값으로 변경\n",
        "\n",
        "\n",
        "        # 만약 num 값이 max_value보다 크다면 max_value를 num 값으로 변경\n",
        "\n",
        "\n",
        "\n",
        "    # numbers 리스트의 모든 값을 순환하며 최댓값과 최솟값 업데이트\n",
        "    for num in numbers:\n",
        "        update_min_max(num)\n",
        "\n",
        "    # 최솟값을 반환하는 내부함수\n",
        "    def get_min():\n",
        "\n",
        "\n",
        "    # 최댓값을 반환하는 내부함수\n",
        "    def get_max():\n",
        "\n",
        "\n",
        "    # 외부함수는 내부함수(get_min()과 get_max())를 반환\n"
      ],
      "metadata": {
        "id": "oF_uYyS2jjPj"
      },
      "execution_count": null,
      "outputs": []
    },
    {
      "cell_type": "code",
      "source": [
        "numbers = [10, 5, 8, 12, 3, 7]\n",
        "find_min, find_max = find_min_max(numbers)\n",
        "\n",
        "print(\"최솟값:\", find_min())  # 3\n",
        "print(\"최댓값:\", find_max())  # 12"
      ],
      "metadata": {
        "id": "fCd_fJBrobxi",
        "colab": {
          "base_uri": "https://localhost:8080/"
        },
        "outputId": "3c4c7b7f-ea89-473c-de4d-292384494ab5"
      },
      "execution_count": null,
      "outputs": [
        {
          "output_type": "stream",
          "name": "stdout",
          "text": [
            "최솟값: 3\n",
            "최댓값: 12\n"
          ]
        }
      ]
    },
    {
      "cell_type": "markdown",
      "source": [
        "## 문제 2. 함수의 호출 횟수를 세는 데코레이터"
      ],
      "metadata": {
        "id": "d3XECsmXwES5"
      }
    },
    {
      "cell_type": "markdown",
      "source": [
        "지난 시간에 배운 데코레이터를 기억하시나요? 데코레이터도 내부함수를 반환하는 클로저를 활용한 문법입니다. 클로저를 활용하여 함수 호출 횟수를 출력하는 데코레이터를 만들어봅시다.\n",
        "\n",
        "조건:\n",
        "* 함수가 실행될 때 마다 함수 이름과 실행 횟수를 출력하는 데코레이터 `counter` 만들기  \n",
        "\n",
        "힌트:\n",
        "* 데코레이터의 내부 함수(클로저)는 실행횟수를 기억하기 위해 외부 함수의 변수를 참조 해야 합니다\n",
        "* 함수의 이름은 `함수이름.__name__`으로 접근할 수 있습니다.\n",
        "\n",
        "---\n",
        "입력:\n",
        "```python\n",
        "@counter\n",
        "def say_hello():\n",
        "    print(\"Hello Aiffel!\")\n",
        "\n",
        "for i in range(5):\n",
        "    say_hello()\n",
        "```\n",
        "---\n",
        "출력:\n",
        "```\n",
        "Hello Aiffel!\n",
        "say_hello 실행횟수: 1\n",
        "Hello Aiffel!\n",
        "say_hello 실행횟수: 2\n",
        "Hello Aiffel!\n",
        "say_hello 실행횟수: 3\n",
        "Hello Aiffel!\n",
        "say_hello 실행횟수: 4\n",
        "Hello Aiffel!\n",
        "say_hello 실행횟수: 5\n",
        "```"
      ],
      "metadata": {
        "id": "HTdH6DkVvJMF"
      }
    },
    {
      "cell_type": "code",
      "source": [
        "#안진덕 문제1\n",
        "import random\n",
        "\n",
        "def find_min_max(numbers):\n",
        "    # min_value와 max_value 변수를 초기화\n",
        "    # min_value는 양의 무한대(float('inf'))로 초기화하여 어떤 숫자보다도 큰 값으로 설정\n",
        "    min_value = float('inf')\n",
        "    # max_value는 음의 무한대(float('-inf'))로 초기화하여 어떤 숫자보다도 작은 값으로 설정\n",
        "    max_value = float('-inf')\n",
        "\n",
        "    def update_min_max(num):\n",
        "        # 외부함수의 변수인 min_value, max_value 참조\n",
        "        nonlocal min_value, max_value\n",
        "\n",
        "\n",
        "        # 만약 num 값이 min_value보다 작다면 min_value를 num 값으로 변경\n",
        "        if num < min_value:\n",
        "            min_value = num\n",
        "\n",
        "\n",
        "        # 만약 num 값이 max_value보다 크다면 max_value를 num 값으로 변경\n",
        "        if num > max_value:\n",
        "            max_value = num\n",
        "\n",
        "\n",
        "\n",
        "    # numbers 리스트의 모든 값을 순환하며 최댓값과 최솟값 업데이트\n",
        "    for num in numbers:\n",
        "        update_min_max(num)\n",
        "\n",
        "    # 최솟값을 반환하는 내부함수\n",
        "    def get_min():\n",
        "        return min_value\n",
        "\n",
        "\n",
        "    # 최댓값을 반환하는 내부함수\n",
        "    def get_max():\n",
        "        return max_value\n",
        "\n",
        "\n",
        "    # 외부함수는 내부함수(get_min()과 get_max())를 반환\n",
        "    return get_min, get_max\n",
        "\n",
        "numbers = [random.randint(1, 100) for _ in range(10)]\n",
        "print(\"랜덤 숫자 리스트:\", numbers)\n",
        "find_min, find_max = find_min_max(numbers)\n",
        "\n",
        "print(\"최솟값:\", find_min())\n",
        "print(\"최댓값:\", find_max())\n"
      ],
      "metadata": {
        "colab": {
          "base_uri": "https://localhost:8080/"
        },
        "id": "I-sTDuKckDkj",
        "outputId": "92c5d0aa-6779-41f2-ea1c-8df20851e358"
      },
      "execution_count": null,
      "outputs": [
        {
          "output_type": "stream",
          "name": "stdout",
          "text": [
            "랜덤 숫자 리스트: [79, 74, 54, 76, 37, 21, 82, 100, 45, 24]\n",
            "최솟값: 21\n",
            "최댓값: 100\n"
          ]
        }
      ]
    },
    {
      "cell_type": "code",
      "source": [
        "#안진덕 문제2\n",
        "\n",
        "def counter(func): #데코레이터 함수\n",
        "    count = 0 #카운터 변수. 호출때마다 증가하기위해 0으로 설정\n",
        "\n",
        "    def wrapper(*args, **kwargs):  #*args(튜플로)와 **kwargs(딕셔너리로)는 함수에 전달되는 위치 인자와 키워드 인자를 유연하게 처리\n",
        "        nonlocal count #외부 함수의 변수를 참조 nonlocal\n",
        "        result = func(*args, **kwargs) #먼저 함수를 실행하고 결과를 저장\n",
        "        count += 1\n",
        "        print(f\"{func.__name__} 실행 횟수: {count}\") #실행 후에 횟수 출력\n",
        "        return result #원래 함수 결과 변환\n",
        "    return wrapper #데코 반환\n",
        "\n",
        "@counter #데코 사용, say_hello가 호출될때마다 데코적용된 wrapper함수 호출\n",
        "def say_hello():\n",
        "    print(\"Hello Aiffel!\")\n",
        "\n",
        "for i in range(5): #데코 함수 5번 호출\n",
        "    say_hello()\n"
      ],
      "metadata": {
        "id": "M6Eosfgwn7-k",
        "colab": {
          "base_uri": "https://localhost:8080/"
        },
        "outputId": "a1fc21a0-c43f-4cbd-830e-89084c52d526"
      },
      "execution_count": null,
      "outputs": [
        {
          "output_type": "stream",
          "name": "stdout",
          "text": [
            "Hello Aiffel!\n",
            "say_hello 실행 횟수: 1\n",
            "Hello Aiffel!\n",
            "say_hello 실행 횟수: 2\n",
            "Hello Aiffel!\n",
            "say_hello 실행 횟수: 3\n",
            "Hello Aiffel!\n",
            "say_hello 실행 횟수: 4\n",
            "Hello Aiffel!\n",
            "say_hello 실행 횟수: 5\n"
          ]
        }
      ]
    },
    {
      "cell_type": "code",
      "source": [
        "# 강윤제 문제1\n",
        "\n",
        "def find_min_max(numbers):\n",
        "    # min_value와 max_value 변수를 초기화\n",
        "    # min_value는 양의 무한대(float('inf'))로 초기화하여 어떤 숫자보다도 큰 값으로 설정\n",
        "    min_value = float('inf')\n",
        "    # max_value는 음의 무한대(float('-inf'))로 초기화하여 어떤 숫자보다도 작은 값으로 설정\n",
        "    max_value = float('-inf')\n",
        "\n",
        "    def update_min_max(num):\n",
        "        # 외부함수의 변수인 min_value, max_value 참조\n",
        "        nonlocal min_value, max_value\n",
        "\n",
        "        # 만약 num 값이 min_value보다 작다면 min_value를 num 값으로 변경\n",
        "        if num < min_value:\n",
        "            min_value = num\n",
        "\n",
        "        # 만약 num 값이 max_value보다 크다면 max_value를 num 값으로 변경\n",
        "        if num > max_value:\n",
        "            max_value = num\n",
        "\n",
        "\n",
        "    # numbers 리스트의 모든 값을 순환하며 최댓값과 최솟값 업데이트\n",
        "    for num in numbers:\n",
        "        update_min_max(num)\n",
        "\n",
        "    # 최솟값을 반환하는 내부함수\n",
        "    def get_min():\n",
        "        return min_value\n",
        "\n",
        "    # 최댓값을 반환하는 내부함수\n",
        "    def get_max():\n",
        "        return max_value\n",
        "\n",
        "    # 외부함수는 내부함수(get_min()과 get_max())를 반환\n",
        "    return get_min, get_max\n",
        "\n",
        "numbers = [10, 5, 8, 12, 3, 7]\n",
        "find_min, find_max = find_min_max(numbers)\n",
        "\n",
        "print(\"최솟값:\", find_min())  # 3\n",
        "print(\"최댓값:\", find_max())  # 12"
      ],
      "metadata": {
        "id": "3nM6q51lkewp",
        "colab": {
          "base_uri": "https://localhost:8080/"
        },
        "outputId": "d338061d-692c-4851-afb9-203f41a96de0"
      },
      "execution_count": null,
      "outputs": [
        {
          "output_type": "stream",
          "name": "stdout",
          "text": [
            "최솟값: 3\n",
            "최댓값: 12\n"
          ]
        }
      ]
    },
    {
      "cell_type": "code",
      "source": [
        "# 강윤제 문제 2\n",
        "\n",
        "def counter(func):                # 특정 함수(func)을 받는 데코레이터'counter'함수 생성\n",
        "    count = 0                     # 실행 횟수를 기억하는 외부 함수값 초기값 설정\n",
        "    def wrapper():                # 내부 함수(wrapper) 정의\n",
        "        nonlocal count            # 실행 횟수를 기억하는 외부 함수값을 참조\n",
        "        count += 1                # 실행 횟수를 1 증가\n",
        "        print(func(), \"\\n\", func.__name__, \"실행횟수: \",count)  # 함수의 기능과 함수의 이름, 실행 횟수 출력\n",
        "    return wrapper                # 내부 함수(wrapper) 반환 > 클로저 함수 조건\n",
        "\n",
        "@counter                          # 데코테이터 counter 호출\n",
        "def say_hello():\n",
        "    # print(\"Hello Aiffel!\")      # 그냥 print만 쓸시 결과에 None이 같이 출력됨\n",
        "    return \"Hello Aiffel!\"        # return을 쓸시 해당 문자열만 나타냄\n",
        "\n",
        "for i in range(5):\n",
        "    say_hello()"
      ],
      "metadata": {
        "id": "1A174ybHmbNk",
        "colab": {
          "base_uri": "https://localhost:8080/"
        },
        "outputId": "557ec148-afdc-4830-b288-23b3c0c34b1e"
      },
      "execution_count": null,
      "outputs": [
        {
          "output_type": "stream",
          "name": "stdout",
          "text": [
            "Hello Aiffel! \n",
            " say_hello 실행횟수:  1\n",
            "Hello Aiffel! \n",
            " say_hello 실행횟수:  2\n",
            "Hello Aiffel! \n",
            " say_hello 실행횟수:  3\n",
            "Hello Aiffel! \n",
            " say_hello 실행횟수:  4\n",
            "Hello Aiffel! \n",
            " say_hello 실행횟수:  5\n"
          ]
        }
      ]
    },
    {
      "cell_type": "markdown",
      "source": [
        "# **회고**\n",
        "---\n"
      ],
      "metadata": {
        "id": "1Ye62gqPvvah"
      }
    },
    {
      "cell_type": "markdown",
      "source": [
        "# **안진덕**::\n",
        "\n",
        "+ 문제 1번은 주석이 너무 잘 달려있어서 생각을 천천히 하면서 따라가니 따라갈 수\n",
        "있었습니다. 어렴풋이 이해가 되기때문에 좀 더 많은 자료를 찾아서 선명하게 이해할 수 있도록 하여야겠습니다.\n",
        "\n",
        "+ 문제 2번은 실행 순서가 먼저 횟수를 세고 헬로 아이펠이 나와 당황했습니다. 함수가 먼저 실행되게 만든 다음에 횟수를 세도록 하여 문제를 해결하였습니다.\n",
        "\n",
        "+ 조원이신 강윤제님과 함께 재미있게 설계를 해보았습니다.\n",
        "-------------------------------\n"
      ],
      "metadata": {
        "id": "nGCOO8G_1LfV"
      }
    },
    {
      "cell_type": "markdown",
      "source": [
        "# **강윤제**  \n",
        "- 어제 클로저를 공부하며 벌벌 떨었던 것에 비해 1번 문제는 각 주석별로 따라 코드를 짜면 되서 다행히 쉽게 마칠 수 있었습니다. 다만 주석처리 없이도 할 수 있을지는 미지수기 때문에 좀더 공부 해봐야겠습니다.  \n",
        "\n",
        "- 2번 문제로 들어가 생각한대로 코딩을 해보니 받은 기능을 출력을 안해서 최종 출력값이 다르다던가, 함수 이름을 접근하는 법이 왜 있지 고민하는 등 여러 면이 막혀 생각이 돌아가질 않더군요. 조원이신 안직덕님 과 얘기하면서 뭐가 문제였고 어떤 부분을 추가해야지 작동하는지 의견을 나누니 쉽게 해결되었습니다.  \n",
        "\n",
        "- 조원 안직덕님 덕분에 막힌부분과 궁금한 부분을 해결해서 다행입니다."
      ],
      "metadata": {
        "id": "AOIQPCLo22Q0"
      }
    }
  ]
}