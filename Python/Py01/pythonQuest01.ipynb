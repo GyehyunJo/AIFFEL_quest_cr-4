{
  "nbformat": 4,
  "nbformat_minor": 0,
  "metadata": {
    "colab": {
      "provenance": [],
      "authorship_tag": "ABX9TyPSptpR7OXvdm+MW41hvfmk",
      "include_colab_link": true
    },
    "kernelspec": {
      "name": "python3",
      "display_name": "Python 3"
    },
    "language_info": {
      "name": "python"
    }
  },
  "cells": [
    {
      "cell_type": "markdown",
      "metadata": {
        "id": "view-in-github",
        "colab_type": "text"
      },
      "source": [
        "<a href=\"https://colab.research.google.com/github/KangPixel/AIFFEL_quest_cr/blob/master/Python/Py01/pythonQuest01.ipynb\" target=\"_parent\"><img src=\"https://colab.research.google.com/assets/colab-badge.svg\" alt=\"Open In Colab\"/></a>"
      ]
    },
    {
      "cell_type": "markdown",
      "source": [
        "# 제목\n",
        "\n",
        "본문\n",
        "퀘스트 내용 퀘스트 조건\n",
        "\n",
        "퀘스트 1> 회문인지 아닌지 확인하는 프로그램\n",
        "\n",
        "조건  \n",
        "  단어를 입력받고  \n",
        "  뒤집어 출력하기  \n",
        "  회문이 맞는지 확인후 출력  \n",
        "\n",
        "  자료형, 저어문, 함수 이용\n",
        "\n",
        "  입력값\n",
        "\n",
        "  뒤집힌 단어는:\n",
        "  입력된 단어는"
      ],
      "metadata": {
        "id": "_bigphivnx3Z"
      }
    },
    {
      "cell_type": "code",
      "execution_count": null,
      "metadata": {
        "id": "xduqRFw8nk5o"
      },
      "outputs": [],
      "source": []
    }
  ]
}