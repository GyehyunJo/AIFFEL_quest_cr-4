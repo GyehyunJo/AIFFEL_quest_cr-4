{
  "nbformat": 4,
  "nbformat_minor": 0,
  "metadata": {
    "colab": {
      "provenance": [],
      "include_colab_link": true
    },
    "kernelspec": {
      "name": "python3",
      "display_name": "Python 3"
    },
    "language_info": {
      "name": "python"
    }
  },
  "cells": [
    {
      "cell_type": "markdown",
      "metadata": {
        "id": "view-in-github",
        "colab_type": "text"
      },
      "source": [
        "<a href=\"https://colab.research.google.com/github/KangPixel/AIFFEL_quest_cr/blob/master/Python/Py02/pythonQuest02.ipynb\" target=\"_parent\"><img src=\"https://colab.research.google.com/assets/colab-badge.svg\" alt=\"Open In Colab\"/></a>"
      ]
    },
    {
      "cell_type": "markdown",
      "source": [
        "#[QUEST] Avemgers vocab 만들기!\n",
        "---\n",
        "퀘스트: 문장을 압력받아 정수로 리턴해주는 함수 만드기.\n",
        "\n",
        "- 조건\n",
        "  1. 택스트 전처리를 수행한다.  \n",
        "    - Avengers.txt 파일을 불러온다.\n",
        "    - 모든 문자는 소문자로 변환한다.\n",
        "    - 모든 기호는 제거한다.\n",
        "    - 단어 단위로 분리한다.\n",
        "    - 결과:\n",
        "    - \"I am hungry..very much...\" -> ['i', 'am','hungry', 'very', 'much']\n",
        "  2. 각 단어 별 빈도수를 딕셔너리 형태로 저장한다.\n",
        "  3. 딕셔너리를 빈도 수순으로 내림차순 정렬하고, 정렬 순서대로 정수 인덱스를 부여한다.\n",
        "  4. 텍스트를 input()으로 받아서 정수를 return하는 함수를 만든다."
      ],
      "metadata": {
        "id": "KxTgRLGnTSJw"
      }
    },
    {
      "cell_type": "code",
      "source": [
        "from google.colab import drive  # 구글 드라이브 연동\n",
        "drive.mount('/content/drive')"
      ],
      "metadata": {
        "colab": {
          "base_uri": "https://localhost:8080/"
        },
        "id": "_L1NBCdaVusU",
        "outputId": "b8d98239-45b0-4f00-c231-539530696b50"
      },
      "execution_count": null,
      "outputs": [
        {
          "output_type": "stream",
          "name": "stdout",
          "text": [
            "Drive already mounted at /content/drive; to attempt to forcibly remount, call drive.mount(\"/content/drive\", force_remount=True).\n"
          ]
        }
      ]
    },
    {
      "cell_type": "markdown",
      "source": [
        "1. 택스트 전처리를 수행한다.\n",
        "    - Avengers.txt 파일을 불러온다.\n",
        "    - 모든 문자는 소문자로 변환한다.\n",
        "    - 모든 기호는 제거한다.\n",
        "    - 단어 단위로 분리한다."
      ],
      "metadata": {
        "id": "1Seh2M8HrBPx"
      }
    },
    {
      "cell_type": "code",
      "source": [
        "# import pandas as pd     #table로 읽으려다가 실패\n",
        "# avengers = pd.read_table('drive/MyDrive/Colab Notebooks/Quest/Avengers.txt')\n",
        "# print(avengers)"
      ],
      "metadata": {
        "id": "VhrVa-mdR0Mm"
      },
      "execution_count": null,
      "outputs": []
    },
    {
      "cell_type": "code",
      "source": [
        "file = open('Avengers.txt', 'r')  #drive/MyDrive/Colab Notebooks/Quest/\n",
        "avengers = file.read()  #avengers에 파일을 읽어서 저장\n",
        "# print(avengers)\n",
        "file.close()"
      ],
      "metadata": {
        "id": "WPzvV_LGSNyk"
      },
      "execution_count": 93,
      "outputs": []
    },
    {
      "cell_type": "code",
      "source": [
        "avengers = avengers.lower() #avengers가 소문자로 변환\n",
        "# print(avengers)"
      ],
      "metadata": {
        "id": "j1Gk-PejYRLC"
      },
      "execution_count": 94,
      "outputs": []
    },
    {
      "cell_type": "code",
      "source": [
        "import re                                   # re.sub\n",
        "avengers = re.sub('[^a-z ]', '', avengers)  # avengers에서 알파벳이 아닌 문자를 제거(특수문자 다 제거)\n",
        "# print(avengers)"
      ],
      "metadata": {
        "id": "BvQU1N_YcNIm"
      },
      "execution_count": 95,
      "outputs": []
    },
    {
      "cell_type": "code",
      "source": [
        "from posixpath import split\n",
        "avengers_list = avengers.split()\n",
        "# print(avengers_list)"
      ],
      "metadata": {
        "id": "lkfvyk8Ihnse"
      },
      "execution_count": 96,
      "outputs": []
    },
    {
      "cell_type": "markdown",
      "source": [
        "2. 각 단어 별 빈도수를 딕셔너리 형태로 저장한다."
      ],
      "metadata": {
        "id": "MySr1pepq6gT"
      }
    },
    {
      "cell_type": "code",
      "source": [
        "dic = {}\n",
        "\n",
        "for i in avengers_list:   # avengers_list의 값들을 순서대로 꺼내\n",
        "  if i in dic:            # dic 딕셔너리에서 불러온 i가 있다면\n",
        "    dic[i] += 1           # dic[i]의 값을 1 증가\n",
        "  else:                   # 없다면\n",
        "    dic[i] = 1            # dic[i]의 초기값을 1로 설정\n",
        "\n",
        "# print(dic)"
      ],
      "metadata": {
        "id": "ScPwFgX1mjo4"
      },
      "execution_count": 97,
      "outputs": []
    },
    {
      "cell_type": "markdown",
      "source": [
        "3. 딕셔너리를 빈도 수순으로 내림차순 정렬하고, 정렬 순서대로 정수 인덱스를 부여한다."
      ],
      "metadata": {
        "id": "H0FDonZ5vbaF"
      }
    },
    {
      "cell_type": "code",
      "source": [
        "sorted_dic = (sorted(dic.items(), key=lambda x: x[1], reverse=True))  # lambda식 활용해 내림차 순으로 정렬\n",
        "# print(sorted_dic)\n",
        "# print(type(sorted_dic))\n",
        "\n",
        "dic_index = {}\n",
        "for i in range(len(sorted_dic)):        # 리스트로 받을시\n",
        "  dic_index[sorted_dic[i][0]] = i\n",
        "\n",
        "# print(dic_index)"
      ],
      "metadata": {
        "id": "2Gf3avRRp4Qz"
      },
      "execution_count": 99,
      "outputs": []
    },
    {
      "cell_type": "code",
      "source": [
        "sorted_dic = dict(sorted(dic.items(), key=lambda x: x[1], reverse=True))\n",
        "dic_index_2 = {}\n",
        "\n",
        "for i,word in enumerate(sorted_dic.keys()):   # 딕셔너리로 받을시\n",
        "  dic_index_2[word] = i\n",
        "# print(dic_index_2)"
      ],
      "metadata": {
        "colab": {
          "base_uri": "https://localhost:8080/"
        },
        "id": "JL0MpCNQAisw",
        "outputId": "359e7cf1-c188-4d40-eb0d-256eca385d2c"
      },
      "execution_count": 98,
      "outputs": [
        {
          "output_type": "stream",
          "name": "stdout",
          "text": [
            "{'the': 0, 'you': 1, 'to': 2, 'a': 3, 'i': 4, 'of': 5, 'is': 6, 'that': 7, 'on': 8, 'in': 9, 'we': 10, 'it': 11, 'not': 12, 'and': 13, 'for': 14, 'this': 15, 'be': 16, 'have': 17, 'what': 18, 'he': 19, 'know': 20, 'are': 21, 'me': 22, 'its': 23, 'was': 24, 'out': 25, 'get': 26, 'your': 27, 'do': 28, 'dont': 29, 'need': 30, 'no': 31, 'my': 32, 'like': 33, 'got': 34, 'im': 35, 'all': 36, 'up': 37, 'can': 38, 'an': 39, 'will': 40, 'his': 41, 'with': 42, 'did': 43, 'gonna': 44, 'about': 45, 'were': 46, 'tesseract': 47, 'they': 48, 'if': 49, 'think': 50, 'just': 51, 'come': 52, 'here': 53, 'from': 54, 'them': 55, 'didnt': 56, 'him': 57, 'how': 58, 'stark': 59, 'well': 60, 'youre': 61, 'so': 62, 'as': 63, 'hes': 64, 'but': 65, 'there': 66, 'should': 67, 'put': 68, 'loki': 69, 'cant': 70, 'us': 71, 'has': 72, 'world': 73, 'right': 74, 'thats': 75, 'why': 76, 'our': 77, 'back': 78, 'one': 79, 'down': 80, 'tell': 81, 'now': 82, 'at': 83, 'off': 84, 'take': 85, 'fury': 86, 'man': 87, 'only': 88, 'made': 89, 'mean': 90, 'want': 91, 'isnt': 92, 'wanna': 93, 'way': 94, 'people': 95, 'would': 96, 'go': 97, 'time': 98, 'other': 99, 'ive': 100, 'everything': 101, 'find': 102, 'some': 103, 'where': 104, 'good': 105, 'little': 106, 'really': 107, 'power': 108, 'see': 109, 'cube': 110, 'say': 111, 'been': 112, 'work': 113, 'guy': 114, 'into': 115, 'something': 116, 'lokis': 117, 'energy': 118, 'when': 119, 'make': 120, 'every': 121, 'anything': 122, 'agent': 123, 'thing': 124, 'does': 125, 'too': 126, 'am': 127, 'who': 128, 'more': 129, 'wants': 130, 'war': 131, 'could': 132, 'guys': 133, 'gotta': 134, 'never': 135, 'doctor': 136, 'barton': 137, 'end': 138, 'still': 139, 'lot': 140, 'by': 141, 'thought': 142, 'than': 143, 'had': 144, 'call': 145, 'lets': 146, 'doing': 147, 'youve': 148, 'knows': 149, 'engine': 150, 'shut': 151, 'long': 152, 'may': 153, 'might': 154, 'or': 155, 'any': 156, 'asgard': 157, 'portal': 158, 'these': 159, 'men': 160, 'keep': 161, 'sorry': 162, 'very': 163, 'point': 164, 'shield': 165, 'then': 166, 'banner': 167, 'yeah': 168, 'suit': 169, 'selvig': 170, 'until': 171, 'things': 172, 'kind': 173, 'pretty': 174, 'give': 175, 'look': 176, 'hold': 177, 'big': 178, 'away': 179, 'ill': 180, 'stop': 181, 'ever': 182, 'over': 183, 'avengers': 184, 'seen': 185, 'around': 186, 'going': 187, 'stay': 188, 'love': 189, 'let': 190, 'much': 191, 'army': 192, 'working': 193, 'sir': 194, 'even': 195, 'next': 196, 'sure': 197, 'turn': 198, 'close': 199, 'better': 200, 'doesnt': 201, 'before': 202, 'leave': 203, 'first': 204, 'try': 205, 'id': 206, 'needs': 207, 'wont': 208, 'yourself': 209, 'percent': 210, 'nothing': 211, 'play': 212, 'dr': 213, 'earth': 214, 'king': 215, 'coming': 216, 'hit': 217, 'yes': 218, 'ready': 219, 'force': 220, 'control': 221, 'though': 222, 'phase': 223, 'space': 224, 'far': 225, 'gamma': 226, 'open': 227, 'means': 228, 'whos': 229, 'many': 230, 'true': 231, 'hell': 232, 'miss': 233, 'lost': 234, 'those': 235, 'wipe': 236, 'thor': 237, 'worlds': 238, 'team': 239, 'enough': 240, 'name': 241, 'hard': 242, 'new': 243, 'captain': 244, 'romanoff': 245, 'once': 246, 'remember': 247, 'whats': 248, 'theres': 249, 'together': 250, 'none': 251, 'their': 252, 'run': 253, 'fight': 254, 'lead': 255, 'humans': 256, 'maybe': 257, 'director': 258, 'seeing': 259, 'place': 260, 'two': 261, 'without': 262, 'feel': 263, 'listen': 264, 'blow': 265, 'takes': 266, 'talk': 267, 'god': 268, 'spy': 269, 'start': 270, 'kill': 271, 'seems': 272, 'says': 273, 'after': 274, 'use': 275, 'line': 276, 'exactly': 277, 'oh': 278, 'trying': 279, 'secret': 280, 'took': 281, 'bring': 282, 'already': 283, 'rest': 284, 'become': 285, 'self': 286, 'actually': 287, 'coulson': 288, 'came': 289, 'tower': 290, 'twelve': 291, 'arent': 292, 'mr': 293, 'phil': 294, 'which': 295, 'last': 296, 'used': 297, 'while': 298, 'huge': 299, 'against': 300, 'yet': 301, 'theyre': 302, 'thank': 303, 'eyes': 304, 'always': 305, 'another': 306, 'plan': 307, 'done': 308, 'through': 309, 'because': 310, 'hulk': 311, 'wait': 312, 'three': 313, 'okay': 314, 'perimeter': 315, 'chitauri': 316, 'bad': 317, 'read': 318, 'pull': 319, 'test': 320, 'wasnt': 321, 'room': 322, 'itself': 323, 'couldnt': 324, 'everyone': 325, 'supposed': 326, 'soon': 327, 'she': 328, 'mei': 329, 'please': 330, 'course': 331, 'glorious': 332, 'step': 333, 'free': 334, 'great': 335, 'peace': 336, 'hundred': 337, 'copy': 338, 'looking': 339, 'running': 340, 'wheres': 341, 'father': 342, 'wake': 343, 'whole': 344, 'meand': 345, 'mewe': 346, 'kept': 347, 'youand': 348, 'year': 349, 'break': 350, 'monster': 351, 'told': 352, 'youd': 353, 'controlyou': 354, 'intelligence': 355, 'security': 356, 'won': 357, 'under': 358, 'save': 359, 'called': 360, 'youyou': 361, 'jarvis': 362, 'wouldnt': 363, 'potts': 364, 'being': 365, 'life': 366, 'tony': 367, 'alright': 368, 'whatever': 369, 'having': 370, 'moved': 371, 'meet': 372, 'hope': 373, 'old': 374, 'scepter': 375, 'full': 376, 'beyond': 377, 'pain': 378, 'word': 379, 'care': 380, 'worse': 381, 'thanks': 382, 'asking': 383, 'hands': 384, 'few': 385, 'show': 386, 'couple': 387, 'location': 388, 'move': 389, 'attack': 390, 'son': 391, 'sent': 392, 'again': 393, 'idea': 394, 'built': 395, 'makes': 396, 'building': 397, 'erik': 398, 'someone': 399, 'lose': 400, 'understand': 401, 'source': 402, 'focused': 403, 'youll': 404, 'armor': 405, 'taking': 406, 'changed': 407, 'fall': 408, 'red': 409, 'change': 410, 'same': 411, 'slow': 412, 'form': 413, 'youi': 414, 'needed': 415, 'anybody': 416, 'heroes': 417, 'believing': 418, 'soldier': 419, 'council': 420, 'human': 421, 'wield': 422, 'universe': 423, 'problem': 424, 'levels': 425, 'clear': 426, 'half': 427, 'tesseracts': 428, 'safe': 429, 'act': 430, 'certain': 431, 'funny': 432, 'level': 433, 'weve': 434, 'prepared': 435, 'low': 436, 'gave': 437, 'eye': 438, 'set': 439, 'brother': 440, 'quarrel': 441, 'planning': 442, 'glad': 443, 'freedom': 444, 'lifes': 445, 'feet': 446, 'raw': 447, 'minutes': 448, 'goes': 449, 'track': 450, 'calli': 451, 'living': 452, 'roger': 453, 'himi': 454, 'handle': 455, 'ask': 456, 'giving': 457, 'heat': 458, 'paid': 459, 'stress': 460, 'brought': 461, 'city': 462, 'youbut': 463, 'potential': 464, 'planet': 465, 'signature': 466, 'radiation': 467, 'lying': 468, 'wanted': 469, 'dowhy': 470, 'dealing': 471, 'saying': 472, 'focusing': 473, 'response': 474, 'initiative': 475, 'leaving': 476, 'believe': 477, 'pushthey': 478, 'alone': 479, 'sleepingi': 480, 'years': 481, 'celebrating': 482, 'along': 483, 'youhe': 484, 'key': 485, 'heretheres': 486, 'speed': 487, 'package': 488, 'nowyou': 489, 'left': 490, 'towers': 491, 'sustaining': 492, 'clean': 493, 'reactor': 494, 'light': 495, 'her': 496, 'afraid': 497, 'question': 498, 'genius': 499, 'credit': 500, 'baby': 501, 'heavy': 502, 'private': 503, 'handed': 504, 'hours': 505, 'ii': 506, 'notice': 507, 'deal': 508, 'drop': 509, 'youoh': 510, 'gammer': 511, 'honor': 512, 'sort': 513, 'met': 514, 'job': 515, 'uniform': 516, 'happening': 517, 'fashioned': 518, 'grow': 519, 'restless': 520, 'battle': 521, 'knowledge': 522, 'rogers': 523, 'sign': 524, 'america': 525, 'trading': 526, 'cards': 527, 'vintage': 528, 'gentlemen': 529, 'inside': 530, 'metal': 531, 'reflection': 532, 'panels': 533, 'sweeping': 534, 'spectrometers': 535, 'access': 536, 'lab': 537, 'tracking': 538, 'cluster': 539, 'rule': 540, 'laboratory': 541, 'stuff': 542, 'found': 543, 'match': 544, 'hiding': 545, 'truth': 546, 'scramble': 547, 'powerand': 548, 'saw': 549, 'above': 550, 'missed': 551, 'asgardian': 552, 'cap': 553, 'gone': 554, 'thatthe': 555, 'threat': 556, 'known': 557, 'ityou': 558, 'touch': 559, 'face': 560, 'hammer': 561, 'case': 562, 'straight': 563, 'beast': 564, 'desperate': 565, 'threaten': 566, 'mankind': 567, 'real': 568, 'win': 569, 'outer': 570, 'brain': 571, 'bag': 572, 'killed': 573, 'iridium': 574, 'playing': 575, 'selvigs': 576, 'figured': 577, 'happened': 578, 'green': 579, 'rage': 580, 'stick': 581, 'powered': 582, 'personal': 583, 'monkeys': 584, 'shall': 585, 'six': 586, 'ten': 587, 'york': 588, 'environment': 589, 'safety': 590, 'furys': 591, 'business': 592, 'shields': 593, 'tried': 594, 'wind': 595, 'orders': 596, 'b': 597, 'shouldnt': 598, 'wrong': 599, 'jump': 600, 'crawl': 601, 'stops': 602, 'part': 603, 'learned': 604, 'accident': 605, 'saved': 606, 'suddenly': 607, 'pretend': 608, 'bilchsteim': 609, 'hasnt': 610, 'started': 611, 'mind': 612, 'person': 613, 'mebut': 614, 'happens': 615, 'oni': 616, 'bargain': 617, 'ledger': 618, 'bit': 619, 'build': 620, 'weapons': 621, 'mass': 622, 'controlled': 623, 'higher': 624, 'nuclear': 625, 'speak': 626, 'iti': 627, 'damn': 628, 'lay': 629, 'cut': 630, 'hero': 631, 'party': 632, 'detonation': 633, 'number': 634, 'engines': 635, 'downwere': 636, 'turbine': 637, 'intact': 638, 'goti': 639, 'super': 640, 'rotors': 641, 'relays': 642, 'enemies': 643, 'gets': 644, 'tear': 645, 'headed': 646, 'losing': 647, 'sky': 648, 'awake': 649, 'air': 650, 'group': 651, 'fell': 652, 'nobody': 653, 'alien': 654, 'send': 655, 'else': 656, 'wei': 657, 'protect': 658, 'fighting': 659, 'nat': 660, 'late': 661, 'civilian': 662, 'budapest': 663, 'buildings': 664, 'streets': 665, 'hear': 666, 'blocks': 667, 'ridei': 668, 'order': 669, 'shawarma': 670, 'drink': 671, 'awakenedit': 672, 'neutral': 673, 'worldthey': 674, 'powerbut': 675, 'ally': 676, 'learnhes': 677, 'followthe': 678, 'yoursand': 679, 'burnhow': 680, 'itthats': 681, 'knowdr': 682, 'surge': 683, 'four': 684, 'hour': 685, 'agonasa': 686, 'authorize': 687, 'phasehe': 688, 'testing': 689, 'spontaneous': 690, 'advancementit': 691, 'turned': 692, 'onwhat': 693, 'nowclimbing': 694, 'ordered': 695, 'evachow': 696, 'outcampus': 697, 'hourdo': 698, 'bettersir': 699, 'evacuation': 700, 'futilewe': 701, 'sleepif': 702, 'energythere': 703, 'minimum': 704, 'distancei': 705, 'phasesir': 706, 'priority': 707, 'nowuntil': 708, 'such': 709, 'endswe': 710, 'intends': 711, 'spin': 712, 'onclear': 713, 'tech': 714, 'below': 715, 'piece': 716, 'truck': 717, 'goneyes': 718, 'metalk': 719, 'misbehaving': 720, 'funnyno': 721, 'allthe': 722, 'active': 723, 'shesmisbehavinghow': 724, 'plugshes': 725, 'sourceif': 726, 'turns': 727, 'reaches': 728, 'peak': 729, 'harnessing': 730, 'harnessour': 731, 'calculations': 732, 'completenow': 733, 'shes': 734, 'throwing': 735, 'interference': 736, 'radiationnothing': 737, 'harmful': 738, 'radiationthat': 739, 'harmfulwheres': 740, 'bartonthe': 741, 'hawk': 742, 'nest': 743, 'usualagent': 744, 'report': 745, 'detail': 746, 'couldkeep': 747, 'distance': 748, 'spiking': 749, 'againno': 750, 'goneits': 751, 'oven': 752, 'cleanno': 753, 'contacts': 754, 'imsif': 755, 'tampering': 756, 'dooryeah': 757, 'doorway': 758, 'doors': 759, 'both': 760, 'sidessir': 761, 'spearyou': 762, 'heartplease': 763, 'messierof': 764, 'elsei': 765, 'burdened': 766, 'purpose': 767, 'thorwe': 768, 'peoplean': 769, 'ant': 770, 'boot': 771, 'tidings': 772, 'whatfreedom': 773, 'lieonce': 774, 'accept': 775, 'heartyou': 776, 'peaceyeah': 777, 'ofthink': 778, 'piecesir': 779, 'stallingthis': 780, 'blowdrop': 781, 'materialhe': 782, 'bury': 783, 'pharaohs': 784, 'odin': 785, 'righthes': 786, 'collapsing': 787, 'itselfyou': 788, 'criticaldrop': 789, 'himneed': 790, 'vehicles': 791, 'mehill': 792, 'ishes': 793, 'downets': 794, 'gowe': 795, 'cleared': 796, 'upstairs': 797, 'sirwe': 798, 'godirector': 799, 'copythe': 800, 'hostile': 801, 'forcei': 802, 'hilla': 803, 'underdont': 804, 'survivorssound': 805, 'general': 806, 'soul': 807, 'needing': 808, 'rescue': 809, 'briefcase': 810, 'thatcoulson': 811, 'basethis': 812, 'sevenas': 813, 'warwhat': 814, 'dosubtitle': 815, 'javanii': 816, 'tonighti': 817, 'howfor': 818, 'endbelieve': 819, 'mustto': 820, 'prepareddo': 821, 'worklermentovilleis': 822, 'confident': 823, 'transport': 824, 'generaltchalakov': 825, 'exportstchalakov': 826, 'boy': 827, 'dolloutdated': 828, 'informationderived': 829, 'fallfamous': 830, 'black': 831, 'widowits': 832, 'facedo': 833, 'beautifulwe': 834, 'lermentoviatransport': 835, 'tanktell': 836, 'upmedium': 837, 'term': 838, 'hand': 839, 'write': 840, 'downyesyou': 841, 'carefully': 842, 'silenskin': 843, 'box': 844, 'third': 845, 'floorf': 846, 'drawkilometer': 847, 'radiusput': 848, 'woman': 849, 'phoneor': 850, 'block': 851, 'lobby': 852, 'kidding': 853, 'precedence': 854, 'middle': 855, 'interrogation': 856, 'thismoron': 857, 'everythingi': 858, 'natashabartons': 859, 'compromisedlet': 860, 'alive': 861, 'soill': 862, 'brief': 863, 'backbut': 864, 'guycoulson': 865, 'trustsme': 866, 'throw': 867, 'meno': 868, 'guyoh': 869, 'yougo': 870, 'diseaseare': 871, 'doctormy': 872, 'upbody': 873, 'hemake': 874, 'noise': 875, 'eyesa': 876, 'slower': 877, 'ratemy': 878, 'theypleaseshould': 879, 'front': 880, 'banneryou': 881, 'avoiding': 882, 'stressyou': 883, 'picked': 884, 'settleavoiding': 885, 'secretthen': 886, 'yogaou': 887, 'edge': 888, 'smarti': 889, 'uhassume': 890, 'surroundedjust': 891, 'actress': 892, 'buddy': 893, 'toodo': 894, 'young': 895, 'younatasha': 896, 'romanoffare': 897, 'romanoffbecause': 898, 'everyoneno': 899, 'behalf': 900, 'shieldshield': 901, 'distanceeven': 902, 'helped': 903, 'interested': 904, 'parties': 905, 'scent': 906, 'nick': 907, 'trust': 908, 'persuade': 909, 'theother': 910, 'noyouve': 911, 'incidenti': 912, 'streaki': 913, 'wantdoctor': 914, 'facing': 915, 'global': 916, 'catastrophe': 917, 'actively': 918, 'avoid': 919, 'thetesseractit': 920, 'swallow': 921, 'takenit': 922, 'omits': 923, 'weak': 924, 'tracetheres': 925, 'doif': 926, 'tells': 927, 'cage': 928, 'ones': 929, 'meim': 930, 'meani': 931, 'easy': 932, 'thatand': 933, 'mess': 934, 'okaynatashastand': 935, 'herejust': 936, 'methis': 937, 'directoryoure': 938, 'forces': 939, 'councilman': 940, 'firefightdid': 941, 'abundance': 942, 'declared': 943, 'planetnot': 944, 'lokihe': 945, 'alonewhat': 946, 'brotherour': 947, 'hostilebut': 948, 'depend': 949, 'help': 950, 'eitherits': 951, 'uswhich': 952, 'designed': 953, 'enemy': 954, 'listwere': 955, 'greatestcovert': 956, 'networkand': 957, 'fate': 958, 'ofhuman': 959, 'race': 960, 'handful': 961, 'freaksim': 962, 'anyonewe': 963, 'teamthese': 964, 'isolated': 965, 'unbalanced': 966, 'evenbut': 967, 'sentiment': 968, 'directorno': 969, 'soldierstheres': 970, 'gottapull': 971, 'water': 972, 'godthis': 973, 'alivetrouble': 974, 'slept': 975, 'siri': 976, 'fillthen': 977, 'worldi': 978, 'went': 979, 'wari': 980, 'wonthey': 981, 'lostweve': 982, 'mistakes': 983, 'waysome': 984, 'recently': 985, 'mission': 986, 'ithydras': 987, 'weaponhoward': 988, 'fished': 989, 'ocean': 990, 'tounlimited': 991, 'sustainable': 992, 'energythats': 993, 'sorely': 994, 'lokihes': 995, 'inthe': 996, 'gotten': 997, 'stranger': 998, 'knowat': 999, 'doubt': 1000, 'surprise': 1001, 'meten': 1002, 'bucks': 1003, 'wrongtheres': 1004, 'debriefing': 1005, 'waitingfor': 1006, 'apartmentis': 1007, 'usabout': 1008, 'ought': 1009, 'oceanyoure': 1010, 'endthe': 1011, 'disconnected': 1012, 'transition': 1013, 'linesare': 1014, 'gridstark': 1015, 'abeacon': 1016, 'energywow': 1017, 'overand': 1018, 'worksi': 1019, 'assume': 1020, 'christmas': 1021, 'moremegotta': 1022, 'wider': 1023, 'public': 1024, 'awareness': 1025, 'campaignyou': 1026, 'pressi': 1027, 'tomorrowim': 1028, 'zoning': 1029, 'billboardspepper': 1030, 'killing': 1031, 'rememberenjoy': 1032, 'momenti': 1033, 'remembersir': 1034, 'lineim': 1035, 'outsir': 1036, 'insistingclose': 1037, 'datelevels': 1038, 'holding': 1039, 'steadyi': 1040, 'thinkof': 1041, 'directly': 1042, 'involvedwhich': 1043, 'brings': 1044, 'ha': 1045, 'iwhat': 1046, 'youno': 1047, 'thatgive': 1048, 'pleasestark': 1049, 'argument': 1050, 'fifteen': 1051, 'liftingliterally': 1052, 'lifted': 1053, 'thingsand': 1054, 'snafu': 1055, 'elevator': 1056, 'elevatorit': 1057, 'teeming': 1058, 'sweaty': 1059, 'workmenim': 1060, 'pay': 1061, 'comment': 1062, 'aboutpercentages': 1063, 'subtle': 1064, 'later': 1065, 'inot': 1066, 'subtleill': 1067, 'buildingis': 1068, 'lease': 1069, 'mom': 1070, 'bunk': 1071, 'oversir': 1072, 'telephone': 1073, 'afraidmy': 1074, 'protocols': 1075, 'overwrittenstark': 1076, 'talkyou': 1077, 'reached': 1078, 'modeldecoy': 1079, 'message': 1080, 'urgent': 1081, 'urgently': 1082, 'breach': 1083, 'uhhis': 1084, 'staysoon': 1085, 'possible': 1086, 'cause': 1087, 'thingsso': 1088, 'tradethank': 1089, 'youofficial': 1090, 'consulting': 1091, 'between': 1092, 'eight': 1093, 'five': 1094, 'thursday': 1095, 'consultation': 1096, 'scrapped': 1097, 'qualify': 1098, 'eitheryeah': 1099, 'apparently': 1100, 'volatile': 1101, 'obsessed': 1102, 'others': 1103, 'personality': 1104, 'profiles': 1105, 'anymore': 1106, 'sec': 1107, 'moment': 1108, 'momentthis': 1109, 'serious': 1110, 'phils': 1111, 'shaken': 1112, 'thisthis': 1113, 'uhthis': 1114, 'jet': 1115, 'dc': 1116, 'tonight': 1117, 'tomorrowyou': 1118, 'homework': 1119, 'homeworkwell': 1120, 'didntif': 1121, 'didntyou': 1122, 'finishedthen': 1123, 'square': 1124, 'datework': 1125, 'drive': 1126, 'past': 1127, 'airport': 1128, 'chance': 1129, 'fantastic': 1130, 'cellistyou': 1131, 'relationship': 1132, 'portland': 1133, 'whatwe': 1134, 'fortyminutefrom': 1135, 'base': 1136, 'sirso': 1137, 'replicate': 1138, 'serum': 1139, 'mea': 1140, 'superherobanner': 1141, 'unlocking': 1142, 'erskines': 1143, 'original': 1144, 'formula': 1145, 'muchwhen': 1146, 'stephen': 1147, 'hawkinghes': 1148, 'smart': 1149, 'personi': 1150, 'officiallyi': 1151, 'watched': 1152, 'wasi': 1153, 'present': 1154, 'unconscious': 1155, 'iceyou': 1156, 'ajust': 1157, 'board': 1158, 'absolutelyuhweve': 1159, 'modifications': 1160, 'design': 1161, 'inputthe': 1162, 'stars': 1163, 'stripes': 1164, 'littleold': 1165, 'fashionedeverything': 1166, 'lightpeople': 1167, 'meagre': 1168, 'lengthyif': 1169, 'formidable': 1170, 'claimyou': 1171, 'usquestion': 1172, 'himhe': 1173, 'handwho': 1174, 'ancient': 1175, 'purposewhen': 1176, 'cast': 1177, 'defeatedi': 1178, 'rightful': 1179, 'betrayedyour': 1180, 'ambition': 1181, 'childish': 1182, 'needwe': 1183, 'worldsthe': 1184, 'availyou': 1185, 'yeti': 1186, 'threatenbut': 1187, 'doorsuntil': 1188, 'mine': 1189, 'command': 1190, 'wars': 1191, 'guardianif': 1192, 'fail': 1193, 'usthere': 1194, 'realm': 1195, 'barren': 1196, 'moonno': 1197, 'crevasse': 1198, 'painyou': 1199, 'receive': 1200, 'sweet': 1201, 'equipment': 1202, 'rightagent': 1203, 'bridge': 1204, 'therethere': 1205, 'quite': 1206, 'buzz': 1207, 'finding': 1208, 'icei': 1209, 'swoondid': 1210, 'prouddr': 1211, 'banneroh': 1212, 'hi': 1213, 'aboutmust': 1214, 'strange': 1215, 'familiar': 1216, 'minuteits': 1217, 'breathis': 1218, 'submarinereally': 1219, 'submerged': 1220, 'pressurized': 1221, 'containeroh': 1222, 'operatingsheildemergency': 1223, 'protocol': 1224, 'effect': 1225, 'vanish': 1226, 'engage': 1227, 'retro': 1228, 'engaged': 1229, 'nicely': 1230, 'uhhow': 1231, 'staying': 1232, 'clearwhere': 1233, 'thatwere': 1234, 'everywirelessly': 1235, 'accessible': 1236, 'camera': 1237, 'planetcell': 1238, 'phones': 1239, 'laptops': 1240, 'connected': 1241, 'satellite': 1242, 'ears': 1243, 'timeyou': 1244, 'narrow': 1245, 'fieldhow': 1246, 'knowtell': 1247, 'roofand': 1248, 'calibrate': 1249, 'raysill': 1250, 'rough': 1251, 'algorithm': 1252, 'based': 1253, 'recognitionat': 1254, 'least': 1255, 'places': 1256, 'somewhere': 1257, 'romanoffwould': 1258, 'pleaseyoure': 1259, 'doc': 1260, 'toys': 1261, 'iridiumits': 1262, 'meteorites': 1263, 'forms': 1264, 'antiprotons': 1265, 'specially': 1266, 'itwell': 1267, 'knowthe': 1268, 'showing': 1269, 'muchitsits': 1270, 'truthi': 1271, 'target': 1272, 'needi': 1273, 'distractionand': 1274, 'eyeballi': 1275, 'troubleno': 1276, 'fineits': 1277, 'setit': 1278, 'collect': 1279, 'allnear': 1280, 'mint': 1281, 'slight': 1282, 'foxing': 1283, 'edges': 1284, 'butwe': 1285, 'sixty': 1286, 'seven': 1287, 'matchweight': 1288, 'cross': 1289, 'seventy': 1290, 'nine': 1291, 'stuttgart': 1292, 'germany': 1293, 'canning': 1294, 'strasse': 1295, 'captainyoure': 1296, 'upkneel': 1297, 'saidkneelis': 1298, 'simpleris': 1299, 'natural': 1300, 'stateits': 1301, 'unspoken': 1302, 'humanitythat': 1303, 'crave': 1304, 'subjugationthe': 1305, 'bright': 1306, 'lure': 1307, 'diminishesyour': 1308, 'joy': 1309, 'mad': 1310, 'identityyou': 1311, 'ruledin': 1312, 'kneelnot': 1313, 'youlook': 1314, 'elder': 1315, 'peoplelet': 1316, 'exampleyou': 1317, 'germanyand': 1318, 'standing': 1319, 'everybody': 1320, 'elsewe': 1321, 'ended': 1322, 'disagreeingim': 1323, 'timeloki': 1324, 'weapon': 1325, 'stand': 1326, 'downkneelnot': 1327, 'todaythe': 1328, 'placeagent': 1329, 'memake': 1330, 'reindeer': 1331, 'namesgood': 1332, 'wordjust': 1333, 'herewere': 1334, 'rock': 1335, 'ages': 1336, 'easilyi': 1337, 'easythis': 1338, 'packs': 1339, 'wallopstill': 1340, 'spry': 1341, 'older': 1342, 'fellow': 1343, 'pilates': 1344, 'whatits': 1345, 'calisthenicsyou': 1346, 'thingsyou': 1347, 'capsicle': 1348, 'calling': 1349, 'youwheres': 1350, 'fromwhats': 1351, 'matter': 1352, 'scared': 1353, 'lightningim': 1354, 'overly': 1355, 'fond': 1356, 'follows': 1357, 'friendly': 1358, 'matterif': 1359, 'frees': 1360, 'kills': 1361, 'sit': 1362, 'canthese': 1363, 'legends': 1364, 'basically': 1365, 'godstheres': 1366, 'maamand': 1367, 'dress': 1368, 'gaming': 1369, 'mood': 1370, 'mewith': 1371, 'bifrost': 1372, 'dark': 1373, 'theallfather': 1374, 'muster': 1375, 'conjure': 1376, 'hereyour': 1377, 'precious': 1378, 'earthi': 1379, 'deaddid': 1380, 'mourn': 1381, 'didour': 1382, 'fatherhe': 1383, 'parentage': 1384, 'notwe': 1385, 'raised': 1386, 'togetherwe': 1387, 'played': 1388, 'fought': 1389, 'shadowsliving': 1390, 'shade': 1391, 'greatnessi': 1392, 'tossing': 1393, 'abyss': 1394, 'recompense': 1395, 'foryour': 1396, 'imagined': 1397, 'slightsno': 1398, 'protection': 1399, 'lokiand': 1400, 'marvelous': 1401, 'slaughter': 1402, 'each': 1403, 'droves': 1404, 'ideally': 1405, 'ruling': 1406, 'brothera': 1407, 'throne': 1408, 'illive': 1409, 'abouti': 1410, 'grown': 1411, 'odins': 1412, 'exilei': 1413, 'itwho': 1414, 'showed': 1415, 'powerwho': 1416, 'controls': 1417, 'hereyou': 1418, 'tesseractyou': 1419, 'poisonous': 1420, 'dreamyou': 1421, 'homei': 1422, 'homebut': 1423, 'whereyou': 1424, 'brotherim': 1425, 'listening': 1426, 'stuffyou': 1427, 'withuhshakespeare': 1428, 'parkdoth': 1429, 'mother': 1430, 'weareth': 1431, 'drapesthis': 1432, 'manloki': 1433, 'justicehe': 1434, 'gives': 1435, 'yours': 1436, 'thenstay': 1437, 'waytouristokayhow': 1438, 'thatthats': 1439, 'schemesthen': 1440, 'prove': 1441, 'downuhyep': 1442, 'loves': 1443, 'hammeryou': 1444, 'downare': 1445, 'herein': 1446, 'unclear': 1447, 'escapeyou': 1448, 'scratch': 1449, 'glassthirty': 1450, 'thousand': 1451, 'steel': 1452, 'trapyou': 1453, 'worksantbootits': 1454, 'impressive': 1455, 'cagenot': 1456, 'mebuilt': 1457, 'stronger': 1458, 'heardthe': 1459, 'mindless': 1460, 'manhow': 1461, 'creatures': 1462, 'defend': 1463, 'youhow': 1464, 'iyou': 1465, 'steal': 1466, 'killcause': 1467, 'funyou': 1468, 'desperateyou': 1469, 'didooh': 1470, 'burns': 1471, 'closeto': 1472, 'unlimited': 1473, 'whata': 1474, 'share': 1475, 'reminded': 1476, 'magazine': 1477, 'grows': 1478, 'drag': 1479, 'chitaurithat': 1480, 'nor': 1481, 'knowhe': 1482, 'return': 1483, 'suspect': 1484, 'astrophysicist': 1485, 'friendloki': 1486, 'spell': 1487, 'ours': 1488, 'leading': 1489, 'lokithat': 1490, 'cats': 1491, 'smell': 1492, 'crazy': 1493, 'speakloki': 1494, 'reason': 1495, 'brotherhe': 1496, 'eighty': 1497, 'days': 1498, 'adopted': 1499, 'mechanics': 1500, 'stabilizing': 1501, 'agentmeans': 1502, 'collapse': 1503, 'shieldno': 1504, 'feelings': 1505, 'swingalso': 1506, 'wideand': 1507, 'wantsthat': 1508, 'gallagathought': 1509, 'turnssounds': 1510, 'exhaustingthe': 1511, 'materials': 1512, 'easilyonly': 1513, 'major': 1514, 'component': 1515, 'sourcea': 1516, 'high': 1517, 'density': 1518, 'kick': 1519, 'cubewhen': 1520, 'expert': 1521, 'thermonuclear': 1522, 'astrophysicslast': 1523, 'nightthe': 1524, 'packet': 1525, 'notesthe': 1526, 'extraction': 1527, 'theory': 1528, 'papersam': 1529, 'readingdoes': 1530, 'particular': 1531, 'sourcehe': 1532, 'andtwenty': 1533, 'million': 1534, 'kelvin': 1535, 'coulomb': 1536, 'barrierunless': 1537, 'tostabilize': 1538, 'quantum': 1539, 'tunnelling': 1540, 'effectwell': 1541, 'achieveheavy': 1542, 'ion': 1543, 'fusion': 1544, 'planetfinally': 1545, 'speaks': 1546, 'english': 1547, 'banneryoure': 1548, 'antielectron': 1549, 'collisions': 1550, 'unparalleledand': 1551, 'fan': 1552, 'controland': 1553, 'enormous': 1554, 'hoping': 1555, 'join': 1556, 'hisit': 1557, 'magical': 1558, 'works': 1559, 'awful': 1560, 'hydra': 1561, 'weaponi': 1562, 'cubeand': 1563, 'toturn': 1564, 'sharpest': 1565, 'flying': 1566, 'understood': 1567, 'reference': 1568, 'sirthe': 1569, 'readings': 1570, 'definitelyconsistent': 1571, 'reports': 1572, 'weeks': 1573, 'process': 1574, 'bypass': 1575, 'mainframeand': 1576, 'direct': 1577, 'reroute': 1578, 'homer': 1579, 'clusterwe': 1580, 'clock': 1581, 'teraflopsall': 1582, 'packed': 1583, 'tooth': 1584, 'brushyou': 1585, 'sometimetop': 1586, 'floors': 1587, 'r': 1588, 'd': 1589, 'candy': 1590, 'land': 1591, 'ikind': 1592, 'broke': 1593, 'harlemwell': 1594, 'promise': 1595, 'tensionno': 1596, 'surprises': 1597, 'nutsyou': 1598, 'lid': 1599, 'havent': 1600, 'mellow': 1601, 'jazz': 1602, 'bongo': 1603, 'drums': 1604, 'weed': 1605, 'joke': 1606, 'threatening': 1607, 'ship': 1608, 'offense': 1609, 'itits': 1610, 'aboard': 1611, 'pointy': 1612, 'tiptoeing': 1613, 'strut': 1614, 'focus': 1615, 'starkyou': 1616, 'nowwhy': 1617, 'telling': 1618, 'usi': 1619, 'equation': 1620, 'unless': 1621, 'variables': 1622, 'spyhes': 1623, 'secrets': 1624, 'secretsits': 1625, 'bugging': 1626, 'uh': 1627, 'finish': 1628, 'doctora': 1629, 'jab': 1630, 'heard': 1631, 'meant': 1632, 'youeven': 1633, 'post': 1634, 'newsthe': 1635, 'ugly': 1636, 'yorkits': 1637, 'reactors': 1638, 'prototypeim': 1639, 'nowso': 1640, 'projecti': 1641, 'placei': 1642, 'probably': 1643, 'decryption': 1644, 'programme': 1645, 'finishes': 1646, 'breaking': 1647, 'secure': 1648, 'files': 1649, 'since': 1650, 'bridgein': 1651, 'dirty': 1652, 'hide': 1653, 'blueberry': 1654, 'confused': 1655, 'aroundan': 1656, 'organization': 1657, 'fears': 1658, 'historically': 1659, 'possiblei': 1660, 'upthis': 1661, 'succeedwe': 1662, 'follow': 1663, 'themfollowing': 1664, 'styleand': 1665, 'style': 1666, 'youof': 1667, 'awearing': 1668, 'spangly': 1669, 'outfit': 1670, 'usesteve': 1671, 'smells': 1672, 'funky': 1673, 'youjust': 1674, 'cubethats': 1675, 'dad': 1676, 'aboutwondering': 1677, 'icethe': 1678, 'uswhat': 1679, 'acme': 1680, 'dynamite': 1681, 'kitits': 1682, 'doesand': 1683, 'itor': 1684, 'suiting': 1685, 'usah': 1686, 'armorim': 1687, 'exposed': 1688, 'nerve': 1689, 'nightmare': 1690, 'shrapneltrying': 1691, 'second': 1692, 'heartthis': 1693, 'circle': 1694, 'lightits': 1695, 'terrible': 1696, 'privilege': 1697, 'differenthey': 1698, 'exposure': 1699, 'youso': 1700, 'hulkthe': 1701, 'lifethats': 1702, 'niceits': 1703, 'nice': 1704, 'sentimentsave': 1705, 'whati': 1706, 'guess': 1707, 'enjoy': 1708, 'mightas': 1709, 'jane': 1710, 'fosterweve': 1711, 'excellent': 1712, 'observatory': 1713, 'traunseeshe': 1714, 'asked': 1715, 'consult': 1716, 'yesterdayhandsome': 1717, 'fee': 1718, 'plane': 1719, 'remote': 1720, 'shell': 1721, 'youits': 1722, 'selvigi': 1723, 'dread': 1724, 'plans': 1725, 'talks': 1726, 'lotyou': 1727, 'werewe': 1728, 'advanced': 1729, 'wewe': 1730, 'battling': 1731, 'scaly': 1732, 'antlers': 1733, 'sothey': 1734, 'repulsive': 1735, 'andthey': 1736, 'trample': 1737, 'pathwhen': 1738, 'followed': 1739, 'priceand': 1740, 'againn': 1741, 'youth': 1742, 'courted': 1743, 'warwar': 1744, 'yetyou': 1745, 'isi': 1746, 'afieldits': 1747, 'cravesits': 1748, 'vengeance': 1749, 'upon': 1750, 'metheres': 1751, 'prise': 1752, 'hima': 1753, 'doloki': 1754, 'prisonerthen': 1755, 'boat': 1756, 'sneak': 1757, 'afterafter': 1758, 'tortures': 1759, 'concoctyou': 1760, 'appear': 1761, 'friendas': 1762, 'balm': 1763, 'cooperate': 1764, 'bartonid': 1765, 'expanded': 1766, 'mindand': 1767, 'mountainwhat': 1768, 'children': 1769, 'owe': 1770, 'debttell': 1771, 'mebefore': 1772, 'worked': 1773, 'myselfi': 1774, 'specific': 1775, 'skillseti': 1776, 'radar': 1777, 'wayagent': 1778, 'mehe': 1779, 'different': 1780, 'calland': 1781, 'vow': 1782, 'spare': 1783, 'ah': 1784, 'thisyour': 1785, 'balance': 1786, 'manregimes': 1787, 'everydayi': 1788, 'tend': 1789, 'weep': 1790, 'russianor': 1791, 'complicatedive': 1792, 'outcan': 1793, 'youcan': 1794, 'reddrakoffs': 1795, 'daughtersao': 1796, 'paulothe': 1797, 'hospital': 1798, 'filebarton': 1799, 'everythingyour': 1800, 'dripping': 1801, 'gushing': 1802, 'redand': 1803, 'saving': 1804, 'virtuous': 1805, 'anythingthis': 1806, 'basest': 1807, 'sentimentalitythis': 1808, 'child': 1809, 'prayerpatheticyou': 1810, 'lie': 1811, 'killin': 1812, 'service': 1813, 'liars': 1814, 'killersyou': 1815, 'separateto': 1816, 'own': 1817, 'codesomething': 1818, 'horrorsbut': 1819, 'awayi': 1820, 'barter': 1821, 'youslowly': 1822, 'intimately': 1823, 'fearand': 1824, 'workand': 1825, 'screams': 1826, 'split': 1827, 'skullthis': 1828, 'mewling': 1829, 'quinyoure': 1830, 'monsteroh': 1831, 'noyou': 1832, 'whatloki': 1833, 'unleash': 1834, 'wayset': 1835, 'door': 1836, 'lockedthank': 1837, 'cooperation': 1838, 'wondering': 1839, 'locating': 1840, 'models': 1841, 'locked': 1842, 'nowwhen': 1843, 'within': 1844, 'mileand': 1845, 'muss': 1846, 'fusswhat': 1847, 'weaponssorry': 1848, 'computer': 1849, 'moving': 1850, 'merogers': 1851, 'gathered': 1852, 'related': 1853, 'tesseractthis': 1854, 'nickwhat': 1855, 'removing': 1856, 'calcutta': 1857, 'removed': 1858, 'manipulating': 1859, 'bat': 1860, 'eyelashes': 1861, 'twitchyid': 1862, 'using': 1863, 'destructionbecause': 1864, 'visitor': 1865, 'planetwho': 1866, 'grudge': 1867, 'levelled': 1868, 'small': 1869, 'townwe': 1870, 'alonebut': 1871, 'hopelessly': 1872, 'hilariously': 1873, 'gunned': 1874, 'planetbut': 1875, 'threatthe': 1876, 'filling': 1877, 'matched': 1878, 'cubeyoure': 1879, 'drew': 1880, 'alliesit': 1881, 'signal': 1882, 'realms': 1883, 'theearth': 1884, 'forced': 1885, 'handwe': 1886, 'somethinga': 1887, 'deterrentcause': 1888, 'calms': 1889, 'downremind': 1890, 'fortune': 1891, 'neck': 1892, 'deep': 1893, 'evolved': 1894, 'excuse': 1895, 'court': 1896, 'chaos': 1897, 'mo': 1898, 'chemical': 1899, 'mixture': 1900, 'chaoswerewere': 1901, 'timebomb': 1902, 'steam': 1903, 'starting': 1904, 'meyeah': 1905, 'billionaire': 1906, 'playboy': 1907, 'philanthropisti': 1908, 'worth': 1909, 'youive': 1910, 'footagethe': 1911, 'yourselfyoure': 1912, 'sacrifice': 1913, 'playto': 1914, 'wire': 1915, 'wirealways': 1916, 'outyou': 1917, 'pretending': 1918, 'heroa': 1919, 'youyoure': 1920, 'experiment': 1921, 'special': 1922, 'bottleput': 1923, 'suite': 1924, 'rounds': 1925, 'petty': 1926, 'tiny': 1927, 'escort': 1928, 'renting': 1929, 'cell': 1930, 'triedi': 1931, 'lowi': 1932, 'bullet': 1933, 'mouth': 1934, 'spit': 1935, 'outso': 1936, 'helping': 1937, 'peoplei': 1938, 'dragged': 1939, 'freak': 1940, 'showand': 1941, 'risk': 1942, 'secretagent': 1943, 'calmdr': 1944, 'bannerput': 1945, 'scepterall': 1946, 'kids': 1947, 'trick': 1948, 'located': 1949, 'faster': 1950, 'belongs': 1951, 'aloneyou': 1952, 'meput': 1953, 'suitoh': 1954, 'yep': 1955, 'hill': 1956, 'hitfire': 1957, 'looks': 1958, 'mostly': 1959, 'impossible': 1960, 'repair': 1961, 'thereif': 1962, 'outside': 1963, 'patch': 1964, 'capy': 1965, 'itokayyou': 1966, 'rightkeep': 1967, 'downattentionwait': 1968, 'cameras': 1969, 'darkstay': 1970, 'closelevel': 1971, 'fourengine': 1972, 'theredoctorbruce': 1973, 'fightthis': 1974, 'wantswere': 1975, 'mewere': 1976, 'righti': 1977, 'swear': 1978, 'thisyou': 1979, 'walk': 1980, 'neveryour': 1981, 'lifebrucewe': 1982, 'carrying': 1983, 'south': 1984, 'waterfree': 1985, 'navigationrecalibration': 1986, 'failure': 1987, 'sun': 1988, 'sirthen': 1989, 'lefttakes': 1990, 'waterone': 1991, 'trappedstark': 1992, 'goodsee': 1993, 'conducting': 1994, 'cooling': 1995, 'system': 1996, 'onlinebefore': 1997, 'dislodging': 1998, 'debrisi': 1999, 'paneland': 2000, 'overload': 2001, 'positionwhats': 2002, 'thereit': 2003, 'electricitywell': 2004, 'wrongwere': 2005, 'bannertry': 2006, 'thinkthe': 2007, 'rotorsthis': 2008, 'reengage': 2009, 'push': 2010, 'shreddedthen': 2011, 'unit': 2012, 'reversepolarity': 2013, 'disengage': 2014, 'mag': 2015, 'englishsee': 2016, 'leveritll': 2017, 'outstand': 2018, 'wordi': 2019, 'evac': 2020, 'lower': 2021, 'deckgrenadewe': 2022, 'breachhostile': 2023, 'wiped': 2024, 'gearhulk': 2025, 'research': 2026, 'levelsir': 2027, 'apart': 2028, 'attention': 2029, 'escorts': 2030, 'o': 2031, 'proceed': 2032, 'closetarget': 2033, 'acquiredtarget': 2034, 'engagedtarget': 2035, 'movingengine': 2036, 'downsir': 2037, 'oneits': 2038, 'systemhes': 2039, 'detention': 2040, 'labdoes': 2041, 'copythis': 2042, 'romanoffi': 2043, 'starkwe': 2044, 'altitude': 2045, 'noticednoare': 2046, 'immortal': 2047, 'thatmove': 2048, 'pleasedo': 2049, 'thiswe': 2050, 'prototype': 2051, 'destroyereven': 2052, 'doesdo': 2053, 'outnonatasha': 2054, 'loseam': 2055, 'iits': 2056, 'natureyoure': 2057, 'scatteredyour': 2058, 'floating': 2059, 'fortress': 2060, 'falls': 2061, 'disadvantage': 2062, 'lack': 2063, 'convictioni': 2064, 'iso': 2065, 'lever': 2066, 'minute': 2067, 'herelever': 2068, 'nowim': 2069, 'boss': 2070, 'rabbitedjust': 2071, 'clockin': 2072, 'optionits': 2073, 'bossthis': 2074, 'toagent': 2075, 'medical': 2076, 'herethese': 2077, 'coulsons': 2078, 'jacketguess': 2079, 'themwere': 2080, 'dead': 2081, 'communicationslocation': 2082, 'cubebanner': 2083, 'youlost': 2084, 'eyemaybe': 2085, 'comingyeswe': 2086, 'arsenal': 2087, 'tesseracti': 2088, 'chips': 2089, 'thoughbecause': 2090, 'riskierthere': 2091, 'thiscalled': 2092, 'initiativethe': 2093, 'remarkable': 2094, 'peoplesee': 2095, 'moresee': 2096, 'toto': 2097, 'battles': 2098, 'couldphil': 2099, 'died': 2100, 'ideain': 2101, 'heroeswell': 2102, 'notionyou': 2103, 'hurt': 2104, 'hurtyou': 2105, 'scare': 2106, 'pigeons': 2107, 'lucky': 2108, 'aimyou': 2109, 'ceilingbig': 2110, 'buck': 2111, 'ass': 2112, 'nudeherei': 2113, 'fit': 2114, 'untilyou': 2115, 'shrunk': 2116, 'regular': 2117, 'size': 2118, 'fellathank': 2119, 'nowell': 2120, 'conditionclint': 2121, 'alrightyou': 2122, 'knowi': 2123, 'thoughi': 2124, 'flush': 2125, 'understandhave': 2126, 'playpull': 2127, 'indo': 2128, 'unmadeyou': 2129, 'outcognitive': 2130, 'recalibrationi': 2131, 'headthanksnatasha': 2132, 'agents': 2133, 'clintthis': 2134, 'lokithis': 2135, 'monsters': 2136, 'magic': 2137, 'trained': 2138, 'suppose': 2139, 'wherei': 2140, 'askhes': 2141, 'today': 2142, 'leftwell': 2143, 'arrow': 2144, 'socket': 2145, 'sleep': 2146, 'supposenow': 2147, 'sound': 2148, 'dontyoure': 2149, 'soldiernow': 2150, 'wade': 2151, 'whywhat': 2152, 'justnatashaive': 2153, 'compromisedi': 2154, 'ledgerid': 2155, 'married': 2156, 'nohe': 2157, 'acellist': 2158, 'thinkim': 2159, 'seemed': 2160, 'idiot': 2161, 'jobhe': 2162, 'league': 2163, 'waited': 2164, 'sometimes': 2165, 'soldiers': 2166, 'marching': 2167, 'fife': 2168, 'neither': 2169, 'ihes': 2170, 'blood': 2171, 'doesbut': 2172, 'behind': 2173, 'donenow': 2174, 'listhe': 2175, 'live': 2176, 'aparthe': 2177, 'conquer': 2178, 'greedbut': 2179, 'rightthats': 2180, 'beat': 2181, 'ushe': 2182, 'audience': 2183, 'caught': 2184, 'stuttgartyeah': 2185, 'previews': 2186, 'isthis': 2187, 'opening': 2188, 'night': 2189, 'fulltail': 2190, 'divahe': 2191, 'flowers': 2192, 'paradeshe': 2193, 'monument': 2194, 'skies': 2195, 'plasteredi': 2196, 'whereill': 2197, 'fly': 2198, 'jetsi': 2199, 'canyou': 2200, 'yeahthen': 2201, 'authorized': 2202, 'dontsirdone': 2203, 'jacketranugalranugalthey': 2204, 'communications': 2205, 'upwhatever': 2206, 'sirthis': 2207, 'device': 2208, 'sustainig': 2209, 'lateit': 2210, 'nowhe': 2211, 'okaythe': 2212, 'barrier': 2213, 'pure': 2214, 'unbreachableyeah': 2215, 'thatplan': 2216, 'mark': 2217, 'deployment': 2218, 'skip': 2219, 'spinning': 2220, 'ringwere': 2221, 'clockplease': 2222, 'appeal': 2223, 'humanity': 2224, 'uhactually': 2225, 'thatyeah': 2226, 'mileageyouve': 2227, 'blue': 2228, 'destiny': 2229, 'stalling': 2230, 'threateningthe': 2231, 'fear': 2232, 'avengersits': 2233, 'ourselves': 2234, 'teamearths': 2235, 'mightiest': 2236, 'type': 2237, 'traction': 2238, 'onebut': 2239, 'head': 2240, 'count': 2241, 'demigoda': 2242, 'legendwho': 2243, 'lives': 2244, 'legenda': 2245, 'breathtaking': 2246, 'anger': 2247, 'management': 2248, 'issuesa': 2249, 'master': 2250, 'assassins': 2251, 'fellayouve': 2252, 'managed': 2253, 'piss': 2254, 'single': 2255, 'planwhen': 2256, 'theyll': 2257, 'hulki': 2258, 'wandered': 2259, 'offyoure': 2260, 'missing': 2261, 'thronethere': 2262, 'version': 2263, 'topmaybe': 2264, 'comes': 2265, 'andmaybe': 2266, 'youbecause': 2267, 'earthyou': 2268, 'damned': 2269, 'avenge': 2270, 'ithow': 2271, 'friends': 2272, 'mewhen': 2273, 'busy': 2274, 'performance': 2275, 'issues': 2276, 'knowjarvis': 2277, 'anytime': 2278, 'pissed': 2279, 'offhis': 2280, 'philrightarmyloki': 2281, 'destroy': 2282, 'cantthere': 2283, 'stopping': 2284, 'heading': 2285, 'north': 2286, 'east': 2287, 'drivethroughswing': 2288, 'park': 2289, 'incoming': 2290, 'occupied': 2291, 'themwe': 2292, 'shown': 2293, 'bannerjust': 2294, 'postedjarvis': 2295, 'soft': 2296, 'spotlook': 2297, 'madness': 2298, 'ruleits': 2299, 'itno': 2300, 'togethersentimentyou': 2301, 'trap': 2302, 'rooflokithere': 2303, 'offcaptainit': 2304, 'genuine': 2305, 'pleasure': 2306, 'differentlynational': 2307, 'guarddoes': 2308, 'heredo': 2309, 'fireyou': 2310, 'basement': 2311, 'subway': 2312, 'th': 2313, 'streetsi': 2314, 'streetwell': 2315, 'attentionwhere': 2316, 'heads': 2317, 'powers': 2318, 'surrounding': 2319, 'impenetrablethor': 2320, 'unfinished': 2321, 'itsave': 2322, 'wildwe': 2323, 'top': 2324, 'usso': 2325, 'horrible': 2326, 'sorryno': 2327, 'banne': 2328, 'said': 2329, 'bringing': 2330, 'partydr': 2331, 'bannerdr': 2332, 'angrythats': 2333, 'captainim': 2334, 'angryhold': 2335, 'onsend': 2336, 'restguys': 2337, 'captainalright': 2338, 'containmentbarton': 2339, 'roof': 2340, 'patterns': 2341, 'straysstark': 2342, 'ash': 2343, 'lift': 2344, 'clench': 2345, 'legoolasthor': 2346, 'bottleneck': 2347, 'downyouve': 2348, 'lightning': 2349, 'bastards': 2350, 'upyou': 2351, 'ground': 2352, 'andhulkbsmashbmean': 2353, 'smash': 2354, 'grrr': 2355, 'fun': 2356, 'xoxoxosirstark': 2357, 'ofstrand': 2358, 'bang': 2359, 'thatoh': 2360, 'boynice': 2361, 'gotwe': 2362, 'squadron': 2363, 'invite': 2364, 'mecaptain': 2365, 'biggest': 2366, 'guns': 2367, 'gunsyou': 2368, 'boost': 2369, 'funturn': 2370, 'turnthis': 2371, 'waydirector': 2372, 'decisioni': 2373, 'recognize': 2374, 'decisionbut': 2375, 'given': 2376, 'stupid': 2377, 'assed': 2378, 'decision': 2379, 'elected': 2380, 'ignore': 2381, 'itdirector': 2382, 'closer': 2383, 'subs': 2384, 'jetthat': 2385, 'island': 2386, 'manhattan': 2387, 'councilmanuntil': 2388, 'strike': 2389, 'populationif': 2390, 'everythingid': 2391, 'bird': 2392, 'havehawkeye': 2393, 'helpi': 2394, 'himenoughyou': 2395, 'beneath': 2396, 'godyou': 2397, 'dull': 2398, 'creature': 2399, 'bullied': 2400, 'bypuny': 2401, 'goddoctorlokis': 2402, 'energythe': 2403, 'yourselfits': 2404, 'fault': 2405, 'doingwell': 2406, 'didi': 2407, 'able': 2408, 'portaland': 2409, 'itsir': 2410, 'penetrate': 2411, 'shelljarvis': 2412, 'hearthe': 2413, 'jonahim': 2414, 'considering': 2415, 'role': 2416, 'modeldirector': 2417, 'longer': 2418, 'responsibleoverwrite': 2419, 'alfawe': 2420, 'offsir': 2421, 'born': 2422, 'motionanyone': 2423, 'deckwe': 2424, 'downi': 2425, 'repeat': 2426, 'authorizedstark': 2427, 'missile': 2428, 'beststay': 2429, 'load': 2430, 'didthe': 2431, 'twominutes': 2432, 'thirty': 2433, 'seconds': 2434, 'boutwhat': 2435, 'gettin': 2436, 'sleepyright': 2437, 'fronti': 2438, 'comingi': 2439, 'nuke': 2440, 'less': 2441, 'minuteand': 2442, 'itstark': 2443, 'trip': 2444, 'jarvs': 2445, 'tray': 2446, 'hernew': 2447, 'streetshas': 2448, 'battlegroundthe': 2449, 'containviolence': 2450, 'clearlybut': 2451, 'billionaireiron': 2452, 'starkclose': 2453, 'itson': 2454, 'guyhes': 2455, 'slowing': 2456, 'downwhat': 2457, 'hellwhat': 2458, 'kissed': 2459, 'wonalright': 2460, 'hey': 2461, 'jobguys': 2462, 'tomorrowlets': 2463, 'day': 2464, 'shawarmatheres': 2465, 'joint': 2466, 'finished': 2467, 'yetand': 2468, 'afterif': 2469, 'youill': 2470, 'nowthis': 2471, 'devastation': 2472, 'confirmed': 2473, 'extra': 2474, 'terrestrial': 2475, 'extraordinary': 2476, 'heroic': 2477, 'asavengers': 2478, 'beeni': 2479, 'thorsuper': 2480, 'yorkgive': 2481, 'breakthese': 2482, 'held': 2483, 'responsible': 2484, 'destruction': 2485, 'citythis': 2486, 'nowcaptain': 2487, 'lifewhatever': 2488, 'isand': 2489, 'justjust': 2490, 'currently': 2491, 'whereaboutsid': 2492, 'theyd': 2493, 'earned': 2494, 'absence': 2495, 'belongsout': 2496, 'reachthats': 2497, 'itso': 2498, 'criminal': 2499, 'lokiwho': 2500, 'answering': 2501, 'crimeoh': 2502, 'bei': 2503, 'startedletting': 2504, 'loose': 2505, 'dangerous': 2506, 'surely': 2507, 'areand': 2508, 'itwas': 2509, 'statementa': 2510, 'promisehow': 2511, 'nowtheyve': 2512, 'separate': 2513, 'wayssome': 2514, 'extremely': 2515, 'farwe': 2516, 'situation': 2517, 'againwhat': 2518, 'thentheyll': 2519, 'mam': 2520, 'haiwhere': 2521, 'peopleshield': 2522, 'shortage': 2523, 'doctorthese': 2524, 'timepower': 2525, 'capacitybsecure': 2526, 'storage': 2527, 'cbbshield': 2528, 'accelerator': 2529, 'factorybwould': 2530, 'drinkno': 2531, 'sureim': 2532, 'onethe': 2533, 'argue': 2534}\n"
          ]
        }
      ]
    },
    {
      "cell_type": "markdown",
      "source": [
        "4. 텍스트를 input()으로 받아서 정수를 return하는 함수를 만든다."
      ],
      "metadata": {
        "id": "u09dQ71IxbRM"
      }
    },
    {
      "cell_type": "code",
      "source": [
        "def text(w):\n",
        "  w = w.lower()                   # 똑같이 전처리 실행\n",
        "  w = re.sub('[^a-z ]', '', w)\n",
        "  words = w.split()\n",
        "\n",
        "  int_index = [dic_index[i] for i in words if i in dic_index]\n",
        "  # 만약 전처리된 받은 문장 단어가 dic_index(어벤져스 문서를 전처리 한것)에 들어있다면 꺼내서 리스트화 한다.\n",
        "  return int_index\n",
        "\n",
        "word = input()\n",
        "print(text(word))"
      ],
      "metadata": {
        "id": "O6n3VAlr0lJi",
        "colab": {
          "base_uri": "https://localhost:8080/"
        },
        "outputId": "4859b29e-af5d-4ce6-c665-73595511bca0"
      },
      "execution_count": 100,
      "outputs": [
        {
          "output_type": "stream",
          "name": "stdout",
          "text": [
            "I am a boy\n",
            "[4, 127, 3, 827]\n"
          ]
        }
      ]
    },
    {
      "cell_type": "markdown",
      "source": [
        "## 회고\n",
        "---\n",
        "강민구:  \n",
        "\n",
        "  \n",
        "강윤제:   \n",
        "  분명 구글링해서 해당 함수를 보면 이해가 되는데(이해 안되는 부분도 있고 그 부분은 따로 검색해봄), 코딩을  짤려할 때에는 무슨 함수를 쓸지 안 떠오르니 답답하고 머리가 아파왔다. 공부 부족이 실감나고, 복습뿐 아니라 예습도 해야하나 고민이 된다.  \n",
        "  뭘 지시를 안했는데도 원하는 쪽으로 자동완성 시키는  자동완성의 무서움을 알았다."
      ],
      "metadata": {
        "id": "5Mpn0AX32xN6"
      }
    }
  ]
}