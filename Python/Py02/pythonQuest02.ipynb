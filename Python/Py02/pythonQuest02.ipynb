{
  "nbformat": 4,
  "nbformat_minor": 0,
  "metadata": {
    "colab": {
      "provenance": [],
      "include_colab_link": true
    },
    "kernelspec": {
      "name": "python3",
      "display_name": "Python 3"
    },
    "language_info": {
      "name": "python"
    }
  },
  "cells": [
    {
      "cell_type": "markdown",
      "metadata": {
        "id": "view-in-github",
        "colab_type": "text"
      },
      "source": [
        "<a href=\"https://colab.research.google.com/github/KangPixel/AIFFEL_quest_cr/blob/master/Python/Py02/pythonQuest02.ipynb\" target=\"_parent\"><img src=\"https://colab.research.google.com/assets/colab-badge.svg\" alt=\"Open In Colab\"/></a>"
      ]
    },
    {
      "cell_type": "markdown",
      "source": [
        "#[QUEST] Avemgers vocab 만들기!\n",
        "---\n",
        "퀘스트: 문장을 압력받아 정수로 리턴해주는 함수 만드기.\n",
        "\n",
        "- 조건\n",
        "  1. 택스트 전처리를 수행한다.  \n",
        "    - Avengers.txt 파일을 불러온다.\n",
        "    - 모든 문자는 소문자로 변환한다.\n",
        "    - 모든 기호는 제거한다.\n",
        "    - 단어 단위로 분리한다.\n",
        "    - 결과:\n",
        "    - \"I am hungry..very much...\" -> ['i', 'am','hungry', 'very', 'much']\n",
        "  2. 각 단어 별 빈도수를 딕셔너리 형태로 저장한다.\n",
        "  3. 딕셔너리를 빈도 수순으로 내림차순 정렬하고, 정렬 순서대로 정수 인덱스를 부여한다.\n",
        "  4. 텍스트를 input()으로 받아서 정수를 return하는 함수를 만든다."
      ],
      "metadata": {
        "id": "KxTgRLGnTSJw"
      }
    },
    {
      "cell_type": "code",
      "source": [
        "from google.colab import drive  # 구글 드라이브 연동\n",
        "drive.mount('/content/drive')"
      ],
      "metadata": {
        "colab": {
          "base_uri": "https://localhost:8080/"
        },
        "id": "_L1NBCdaVusU",
        "outputId": "b8d98239-45b0-4f00-c231-539530696b50"
      },
      "execution_count": null,
      "outputs": [
        {
          "output_type": "stream",
          "name": "stdout",
          "text": [
            "Drive already mounted at /content/drive; to attempt to forcibly remount, call drive.mount(\"/content/drive\", force_remount=True).\n"
          ]
        }
      ]
    },
    {
      "cell_type": "markdown",
      "source": [
        "1. 택스트 전처리를 수행한다.\n",
        "    - Avengers.txt 파일을 불러온다.\n",
        "    - 모든 문자는 소문자로 변환한다.\n",
        "    - 모든 기호는 제거한다.\n",
        "    - 단어 단위로 분리한다."
      ],
      "metadata": {
        "id": "1Seh2M8HrBPx"
      }
    },
    {
      "cell_type": "code",
      "source": [
        "# import pandas as pd     #table로 읽으려다가 실패\n",
        "# avengers = pd.read_table('drive/MyDrive/Colab Notebooks/Quest/Avengers.txt')\n",
        "# print(avengers)"
      ],
      "metadata": {
        "id": "VhrVa-mdR0Mm"
      },
      "execution_count": null,
      "outputs": []
    },
    {
      "cell_type": "code",
      "source": [
        "file = open('Avengers.txt', 'r')  #drive/MyDrive/Colab Notebooks/Quest/\n",
        "avengers = file.read()  #avengers에 파일을 읽어서 저장\n",
        "# print(avengers)\n",
        "file.close()"
      ],
      "metadata": {
        "id": "WPzvV_LGSNyk"
      },
      "execution_count": 83,
      "outputs": []
    },
    {
      "cell_type": "code",
      "source": [
        "avengers = avengers.lower() #avengers가 소문자로 변환\n",
        "# print(avengers)"
      ],
      "metadata": {
        "id": "j1Gk-PejYRLC"
      },
      "execution_count": 84,
      "outputs": []
    },
    {
      "cell_type": "code",
      "source": [
        "import re                                   # re.sub\n",
        "avengers = re.sub('[^a-z ]', '', avengers)  # avengers에서 알파벳이 아닌 문자를 제거(특수문자 다 제거)\n",
        "# print(avengers)"
      ],
      "metadata": {
        "id": "BvQU1N_YcNIm"
      },
      "execution_count": null,
      "outputs": []
    },
    {
      "cell_type": "code",
      "source": [
        "from posixpath import split\n",
        "avengers_list = avengers.split()\n",
        "# print(avengers_list)"
      ],
      "metadata": {
        "id": "lkfvyk8Ihnse"
      },
      "execution_count": 85,
      "outputs": []
    },
    {
      "cell_type": "markdown",
      "source": [
        "2. 각 단어 별 빈도수를 딕셔너리 형태로 저장한다."
      ],
      "metadata": {
        "id": "MySr1pepq6gT"
      }
    },
    {
      "cell_type": "code",
      "source": [
        "dic = {}\n",
        "\n",
        "for i in avengers_list:   # avengers_list의 값들을 순서대로 꺼내\n",
        "  if i in dic:            # dic 딕셔너리에서 불러온 i가 있다면\n",
        "    dic[i] += 1           # dic[i]의 값을 1 증가\n",
        "  else:                   # 없다면\n",
        "    dic[i] = 1            # dic[i]의 초기값을 1로 설정\n",
        "\n",
        "# print(dic)"
      ],
      "metadata": {
        "id": "ScPwFgX1mjo4"
      },
      "execution_count": 86,
      "outputs": []
    },
    {
      "cell_type": "markdown",
      "source": [
        "3. 딕셔너리를 빈도 수순으로 내림차순 정렬하고, 정렬 순서대로 정수 인덱스를 부여한다."
      ],
      "metadata": {
        "id": "H0FDonZ5vbaF"
      }
    },
    {
      "cell_type": "code",
      "source": [
        "sorted_dic = (sorted(dic.items(), key=lambda x: x[1], reverse=True))  # lambda식 활용해 내림차 순으로 정렬\n",
        "# print(sorted_dic)\n",
        "# print(type(sorted_dic))\n",
        "\n",
        "dic_index = {}\n",
        "for i in range(len(sorted_dic)):        # 리스트로 받을시\n",
        "  dic_index[sorted_dic[i][0]] = i\n",
        "\n",
        "# print(dic_index)"
      ],
      "metadata": {
        "id": "2Gf3avRRp4Qz"
      },
      "execution_count": 87,
      "outputs": []
    },
    {
      "cell_type": "code",
      "source": [
        "sorted_dic = dict(sorted(dic.items(), key=lambda x: x[1], reverse=True))\n",
        "dic_index_2 = {}\n",
        "\n",
        "for i,word in enumerate(sorted_dic.keys()):   # 딕셔너리로 받을시\n",
        "  dic_index_2[word] = i\n",
        "# print(dic_index_2)"
      ],
      "metadata": {
        "id": "JL0MpCNQAisw"
      },
      "execution_count": 88,
      "outputs": []
    },
    {
      "cell_type": "markdown",
      "source": [
        "4. 텍스트를 input()으로 받아서 정수를 return하는 함수를 만든다."
      ],
      "metadata": {
        "id": "u09dQ71IxbRM"
      }
    },
    {
      "cell_type": "code",
      "source": [
        "def text(w):\n",
        "  w = w.lower()                   # 똑같이 전처리 실행\n",
        "  w = re.sub('[^a-z ]', '', w)\n",
        "  words = w.split()\n",
        "\n",
        "  int_index = [dic_index[i] for i in words if i in dic_index]\n",
        "  # 만약 전처리된 받은 문장 단어가 dic_index(어벤져스 문서를 전처리 한것)에 들어있다면 꺼내서 리스트화 한다.\n",
        "  return int_index\n",
        "\n",
        "word = input()\n",
        "print(text(word))"
      ],
      "metadata": {
        "id": "O6n3VAlr0lJi",
        "colab": {
          "base_uri": "https://localhost:8080/"
        },
        "outputId": "6c95cb7b-e48a-4759-bf4f-a9efce160d66"
      },
      "execution_count": 89,
      "outputs": [
        {
          "output_type": "stream",
          "name": "stdout",
          "text": [
            "I am a boy\n",
            "[3, 143, 4]\n"
          ]
        }
      ]
    },
    {
      "cell_type": "markdown",
      "source": [
        "## 회고\n",
        "---\n",
        "강민구:  \n",
        "\n",
        "  \n",
        "강윤제:   \n",
        "  분명 구글링해서 해당 함수를 보면 이해가 되는데(이해 안되는 부분도 있고 그 부분은 따로 검색해봄), 코딩을  짤려할 때에는 무슨 함수를 쓸지 안 떠오르니 답답하고 머리가 아파왔다. 공부 부족이 실감나고, 복습뿐 아니라 예습도 해야하나 고민이 된다.  \n",
        "  뭘 지시를 안했는데도 원하는 쪽으로 자동완성 시키는  자동완성의 무서움을 알았다."
      ],
      "metadata": {
        "id": "5Mpn0AX32xN6"
      }
    }
  ]
}